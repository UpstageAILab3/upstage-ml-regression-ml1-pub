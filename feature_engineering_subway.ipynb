{
 "cells": [
  {
   "cell_type": "markdown",
   "metadata": {},
   "source": [
    "# 'subway_feature.csv'로 '역세권', '구_역세권_랭크' 피처 생성하기\n",
    "- 역세권: <br> 500m 이내에 지하철역이 있을 경우 역세권 | 아닐 경우 비역세권 <br>\n",
    "역세권이라 하더라도, 역세권 자체보다도 '구'가 아파트 가격에 더 큰 영향을 미치기 때문에 최초에 역세권 피처를 생성할 때는 '구'명까지 붙임 <br>\n",
    "이후 다중공산성을 완화하기 위해 구명은 제외\n",
    "- 구_역세권_랭크: 구별 역세권/비역세권의 target의 평균을 구해 총 50위의 랭크를 매김 (25 * 2)\n",
    "#### 1. 원본 데이터에서 NA인 X, Y좌표 보완\n",
    "#### 2. subway_feature 에 '구' 단위 추가\n",
    "#### 3. 같은 '구'에 속한 아파트와 지하철역 거리 계산 후 역세권/비역세권 산정\n",
    "#### 4. 각 구 역세권/비역세권별 target 평균으로 랭크 산정"
   ]
  },
  {
   "cell_type": "code",
   "execution_count": 1,
   "metadata": {},
   "outputs": [],
   "source": [
    "import os\n",
    "from dotenv import load_dotenv\n",
    "load_dotenv()\n",
    "\n",
    "## NAVER API KEY 불러오기\n",
    "NAVER_API_KEY_ID = os.getenv(\"NAVER_API_KEY_ID\")\n",
    "NAVER_API_KEY = os.getenv(\"NAVER_API_KEY\")\n",
    "\n",
    "## csv file path\n",
    "PATH_SUBWAY = os.getenv(\"PATH_SUBWAY\")\n",
    "PATH_TRAIN = os.getenv(\"PATH_TRAIN\")\n",
    "PATH_TEST = os.getenv(\"PATH_TEST\")\n",
    "PATH_RECENT = os.getenv(\"PATH_RECENT\")"
   ]
  },
  {
   "cell_type": "code",
   "execution_count": 2,
   "metadata": {},
   "outputs": [],
   "source": [
    "# utils\n",
    "import pandas as pd\n",
    "import numpy as np\n",
    "from tqdm import tqdm\n",
    "import warnings;warnings.filterwarnings('ignore')"
   ]
  },
  {
   "cell_type": "code",
   "execution_count": 3,
   "metadata": {},
   "outputs": [],
   "source": [
    "df_train = pd.read_csv(PATH_TRAIN)\n",
    "df_test = pd.read_csv(PATH_TEST)"
   ]
  },
  {
   "cell_type": "code",
   "execution_count": 4,
   "metadata": {},
   "outputs": [],
   "source": [
    "# train/test 구분을 위한 칼럼을 하나 만들어 줍니다.\n",
    "df_train['is_test'] = 0\n",
    "df_test['is_test'] = 1\n",
    "\n",
    "# 하나의 데이터프레임으로 만들어줍니다.\n",
    "concat = pd.concat([df_train, df_test])"
   ]
  },
  {
   "cell_type": "code",
   "execution_count": 5,
   "metadata": {},
   "outputs": [
    {
     "data": {
      "text/plain": [
       "시군구                             0\n",
       "번지                            227\n",
       "본번                             75\n",
       "부번                             75\n",
       "아파트명                         2136\n",
       "전용면적(㎡)                         0\n",
       "계약년월                            0\n",
       "계약일                             0\n",
       "층                               0\n",
       "건축년도                            0\n",
       "도로명                             0\n",
       "해제사유발생일                   1121899\n",
       "등기신청일자                          0\n",
       "거래유형                            0\n",
       "중개사소재지                          0\n",
       "k-단지분류(아파트,주상복합등등)         877273\n",
       "k-전화번호                     876850\n",
       "k-팩스번호                     879348\n",
       "단지소개기존clob                1058958\n",
       "k-세대타입(분양형태)               876125\n",
       "k-관리방식                     876125\n",
       "k-복도유형                     876454\n",
       "k-난방방식                     876125\n",
       "k-전체동수                     877207\n",
       "k-전체세대수                    876125\n",
       "k-건설사(시공사)                 877637\n",
       "k-시행사                      877834\n",
       "k-사용검사일-사용승인일              876259\n",
       "k-연면적                      876125\n",
       "k-주거전용면적                   876170\n",
       "k-관리비부과면적                  876125\n",
       "k-전용면적별세대현황(60㎡이하)         876170\n",
       "k-전용면적별세대현황(60㎡~85㎡이하)     876170\n",
       "k-85㎡~135㎡이하               876170\n",
       "k-135㎡초과                  1127765\n",
       "k-홈페이지                    1013523\n",
       "k-등록일자                    1116386\n",
       "k-수정일자                     876170\n",
       "고용보험관리번호                   920757\n",
       "경비비관리형태                    877561\n",
       "세대전기계약방법                   885389\n",
       "청소비관리형태                    877751\n",
       "건축면적                       876279\n",
       "주차대수                       876277\n",
       "기타/의무/임대/임의=1/2/3/4        876125\n",
       "단지승인일                      876854\n",
       "사용허가여부                     876125\n",
       "관리비 업로드                    876125\n",
       "좌표X                        876232\n",
       "좌표Y                        876232\n",
       "단지신청일                      876187\n",
       "target                       9272\n",
       "is_test                         0\n",
       "dtype: int64"
      ]
     },
     "execution_count": 5,
     "metadata": {},
     "output_type": "execute_result"
    }
   ],
   "source": [
    "concat.isna().sum()"
   ]
  },
  {
   "cell_type": "markdown",
   "metadata": {},
   "source": [
    "⏸ 역세권 피처 생성 시 필요한 칼럼들만 남김!"
   ]
  },
  {
   "cell_type": "code",
   "execution_count": 6,
   "metadata": {},
   "outputs": [
    {
     "data": {
      "text/plain": [
       "시군구             0\n",
       "번지            227\n",
       "도로명             0\n",
       "좌표X        876232\n",
       "좌표Y        876232\n",
       "아파트명         2136\n",
       "is_test         0\n",
       "target       9272\n",
       "dtype: int64"
      ]
     },
     "execution_count": 6,
     "metadata": {},
     "output_type": "execute_result"
    }
   ],
   "source": [
    "# 역세권 피처 생성 시 필요한 칼럼들만 남기기\n",
    "important_columns = [\n",
    "    '시군구', '번지', '도로명','좌표X', '좌표Y', '아파트명', 'is_test', 'target'\n",
    "]\n",
    "\n",
    "# 주요 칼럼만 남긴 데이터프레임\n",
    "filtered_concat = concat[important_columns]\n",
    "\n",
    "# 각 열의 결측치 수 확인\n",
    "filtered_concat.isna().sum()"
   ]
  },
  {
   "cell_type": "code",
   "execution_count": 7,
   "metadata": {},
   "outputs": [],
   "source": [
    "filtered_concat['구'] = filtered_concat['시군구'].map(lambda x : x.split()[1])\n",
    "filtered_concat['동'] = filtered_concat['시군구'].map(lambda x : x.split()[2])"
   ]
  },
  {
   "cell_type": "code",
   "execution_count": 8,
   "metadata": {},
   "outputs": [],
   "source": [
    "# '서초포레스타2단지' 아파트명의 '번지' 채우기\n",
    "filtered_concat.loc[(filtered_concat['번지'].isna()) & (filtered_concat['아파트명'] == '서초포레스타2단지'), '번지'] = '384'\n",
    "\n",
    "# '힐스테이트 서초 젠트리스' 아파트명의 '번지' 값을 557로 채워넣기\n",
    "filtered_concat.loc[(filtered_concat['번지'].isna()) & (filtered_concat['아파트명'] == '힐스테이트 서초 젠트리스'), '번지'] = '557'"
   ]
  },
  {
   "cell_type": "code",
   "execution_count": 9,
   "metadata": {},
   "outputs": [],
   "source": [
    "filtered_concat['아파트명'] = filtered_concat['아파트명'].fillna('NULL')"
   ]
  },
  {
   "cell_type": "code",
   "execution_count": 10,
   "metadata": {},
   "outputs": [
    {
     "data": {
      "text/plain": [
       "시군구             0\n",
       "번지              0\n",
       "도로명             0\n",
       "좌표X        876232\n",
       "좌표Y        876232\n",
       "아파트명            0\n",
       "is_test         0\n",
       "target       9272\n",
       "구               0\n",
       "동               0\n",
       "dtype: int64"
      ]
     },
     "execution_count": 10,
     "metadata": {},
     "output_type": "execute_result"
    }
   ],
   "source": [
    "filtered_concat.isna().sum()"
   ]
  },
  {
   "cell_type": "markdown",
   "metadata": {},
   "source": [
    "## 1. X, Y 좌표 보완\n",
    "Naver API를 통해 NA인 X, Y좌표를 보완 <br>\n",
    "[🔗 Naver Geocoding API](https://api.ncloud-docs.com/docs/ai-naver-mapsgeocoding-geocode)\n",
    "\n",
    "`?query={주소}`"
   ]
  },
  {
   "cell_type": "code",
   "execution_count": 11,
   "metadata": {},
   "outputs": [],
   "source": [
    "df_xy_not_na = filtered_concat[(filtered_concat['좌표X'].notna()) & (filtered_concat['좌표Y'].notna())]"
   ]
  },
  {
   "cell_type": "code",
   "execution_count": 12,
   "metadata": {},
   "outputs": [],
   "source": [
    "df_xy_na = filtered_concat[(filtered_concat['좌표X'].isna()) & (filtered_concat['좌표Y'].isna())]"
   ]
  },
  {
   "cell_type": "code",
   "execution_count": 13,
   "metadata": {},
   "outputs": [
    {
     "data": {
      "text/plain": [
       "시군구        876232\n",
       "번지         876232\n",
       "도로명        876232\n",
       "좌표X             0\n",
       "좌표Y             0\n",
       "아파트명       876232\n",
       "is_test    876232\n",
       "target     869670\n",
       "구          876232\n",
       "동          876232\n",
       "dtype: int64"
      ]
     },
     "execution_count": 13,
     "metadata": {},
     "output_type": "execute_result"
    }
   ],
   "source": [
    "df_xy_na.count()"
   ]
  },
  {
   "cell_type": "code",
   "execution_count": 14,
   "metadata": {},
   "outputs": [],
   "source": [
    "df_xy_na.drop(columns=['target'], inplace=True)"
   ]
  },
  {
   "cell_type": "code",
   "execution_count": 15,
   "metadata": {},
   "outputs": [],
   "source": [
    "df_xy_na.drop_duplicates(inplace=True)"
   ]
  },
  {
   "cell_type": "code",
   "execution_count": 16,
   "metadata": {},
   "outputs": [
    {
     "data": {
      "text/plain": [
       "시군구        10746\n",
       "번지         10746\n",
       "도로명        10746\n",
       "좌표X            0\n",
       "좌표Y            0\n",
       "아파트명       10746\n",
       "is_test    10746\n",
       "구          10746\n",
       "동          10746\n",
       "dtype: int64"
      ]
     },
     "execution_count": 16,
     "metadata": {},
     "output_type": "execute_result"
    }
   ],
   "source": [
    "df_xy_na.count()"
   ]
  },
  {
   "cell_type": "code",
   "execution_count": 17,
   "metadata": {},
   "outputs": [],
   "source": [
    "import requests"
   ]
  },
  {
   "cell_type": "code",
   "execution_count": 18,
   "metadata": {},
   "outputs": [],
   "source": [
    "headers = {\n",
    "    'X-NCP-APIGW-API-KEY-ID': NAVER_API_KEY_ID,\n",
    "    'X-NCP-APIGW-API-KEY': NAVER_API_KEY\n",
    "}"
   ]
  },
  {
   "cell_type": "code",
   "execution_count": 19,
   "metadata": {},
   "outputs": [],
   "source": [
    "URL_GEO = 'https://naveropenapi.apigw.ntruss.com/map-geocode/v2/geocode'"
   ]
  },
  {
   "cell_type": "code",
   "execution_count": 20,
   "metadata": {},
   "outputs": [],
   "source": [
    "def error_log(file_path, data, response):\n",
    "    with open(file_path, 'a') as f:\n",
    "        f.write(f'{data}\\n{response.status_code}\\n{response.json()}\\n---------\\n')\n",
    "    print(data, '\\n[ERROR]', response.json())"
   ]
  },
  {
   "cell_type": "markdown",
   "metadata": {},
   "source": [
    "좀 더 간결하게 짜고 싶은데 일단..................pass"
   ]
  },
  {
   "cell_type": "code",
   "execution_count": 21,
   "metadata": {},
   "outputs": [],
   "source": [
    "def by_street_name(df, addr, i):\n",
    "    addr = df.iloc[i]['도로명']\n",
    "    query = f'?query={addr}'\n",
    "    response = requests.get(URL_GEO + query, headers=headers)\n",
    "    if response.status_code == 200:\n",
    "        data = response.json()\n",
    "        if (data['status'] == 'OK') & (data['meta']['totalCount'] > 0):\n",
    "            x = data['addresses'][0]['x']\n",
    "            y = data['addresses'][0]['y']\n",
    "            df.iloc[i, df.columns.get_loc('좌표X')] = x\n",
    "            df.iloc[i, df.columns.get_loc('좌표Y')] = y\n",
    "        else:\n",
    "            with open(\"주소확인.txt\", 'a') as f:\n",
    "                f.write(f'{addr}\\n{data}\\n---------\\n')\n",
    "    else:\n",
    "        error_log(\"error_주소확인.txt\", addr, response)"
   ]
  },
  {
   "cell_type": "code",
   "execution_count": 22,
   "metadata": {},
   "outputs": [],
   "source": [
    "def fill_xy(df):\n",
    "    try:\n",
    "        for i in tqdm(range(len(df)), desc=\"Processing\"):\n",
    "            addr = f\"{df.iloc[i]['시군구']} {df.iloc[i]['번지']}\"\n",
    "            query = f'?query={addr}'\n",
    "            response = requests.get(URL_GEO + query, headers=headers)\n",
    "            if response.status_code == 200:\n",
    "                data = response.json()\n",
    "                if (data['status'] == 'OK') & (data['meta']['totalCount'] > 0):\n",
    "                    x = data['addresses'][0]['x']\n",
    "                    y = data['addresses'][0]['y']\n",
    "                    df.iloc[i, df.columns.get_loc('좌표X')] = x\n",
    "                    df.iloc[i, df.columns.get_loc('좌표Y')] = y\n",
    "                else:\n",
    "                    # with open(\"주소확인.txt\", 'a') as f:\n",
    "                    #     f.write(f'{addr}\\n{data}\\n---------\\n')\n",
    "                    by_street_name(df, addr, i)\n",
    "            else:\n",
    "                error_log(\"error_주소확인.txt\", addr, response)\n",
    "    except Exception as e:\n",
    "        error_log(\"error_주소확인.txt\", addr, response)\n",
    "        print(addr, '\\n[ERROR]', e)"
   ]
  },
  {
   "cell_type": "code",
   "execution_count": 23,
   "metadata": {},
   "outputs": [
    {
     "name": "stderr",
     "output_type": "stream",
     "text": [
      "Processing: 100%|██████████| 10746/10746 [25:00<00:00,  7.16it/s] \n"
     ]
    }
   ],
   "source": [
    "## 서버에서 실행 시 25분 정도 소요\n",
    "fill_xy(df_xy_na)"
   ]
  },
  {
   "cell_type": "code",
   "execution_count": 24,
   "metadata": {},
   "outputs": [
    {
     "data": {
      "text/plain": [
       "시군구        0\n",
       "번지         0\n",
       "도로명        0\n",
       "좌표X        1\n",
       "좌표Y        1\n",
       "아파트명       0\n",
       "is_test    0\n",
       "구          0\n",
       "동          0\n",
       "dtype: int64"
      ]
     },
     "execution_count": 24,
     "metadata": {},
     "output_type": "execute_result"
    }
   ],
   "source": [
    "df_xy_na.isna().sum()"
   ]
  },
  {
   "cell_type": "markdown",
   "metadata": {},
   "source": [
    "도로명, 시군구+번지로도 검색 불가능한 row가 1개 존재\n",
    "\n",
    "해당 row는 아파트명으로 검색한 실주소로 다시 API를 사용해 X좌표, Y좌표를 알아냄."
   ]
  },
  {
   "cell_type": "code",
   "execution_count": 25,
   "metadata": {},
   "outputs": [
    {
     "data": {
      "text/html": [
       "<div>\n",
       "<style scoped>\n",
       "    .dataframe tbody tr th:only-of-type {\n",
       "        vertical-align: middle;\n",
       "    }\n",
       "\n",
       "    .dataframe tbody tr th {\n",
       "        vertical-align: top;\n",
       "    }\n",
       "\n",
       "    .dataframe thead th {\n",
       "        text-align: right;\n",
       "    }\n",
       "</style>\n",
       "<table border=\"1\" class=\"dataframe\">\n",
       "  <thead>\n",
       "    <tr style=\"text-align: right;\">\n",
       "      <th></th>\n",
       "      <th>시군구</th>\n",
       "      <th>번지</th>\n",
       "      <th>도로명</th>\n",
       "      <th>좌표X</th>\n",
       "      <th>좌표Y</th>\n",
       "      <th>아파트명</th>\n",
       "      <th>is_test</th>\n",
       "      <th>구</th>\n",
       "      <th>동</th>\n",
       "    </tr>\n",
       "  </thead>\n",
       "  <tbody>\n",
       "    <tr>\n",
       "      <th>249335</th>\n",
       "      <td>서울특별시 관악구 봉천동</td>\n",
       "      <td>1152</td>\n",
       "      <td>27</td>\n",
       "      <td>NaN</td>\n",
       "      <td>NaN</td>\n",
       "      <td>관악푸르지오102동</td>\n",
       "      <td>0</td>\n",
       "      <td>관악구</td>\n",
       "      <td>봉천동</td>\n",
       "    </tr>\n",
       "  </tbody>\n",
       "</table>\n",
       "</div>"
      ],
      "text/plain": [
       "                  시군구    번지  도로명  좌표X  좌표Y        아파트명  is_test    구    동\n",
       "249335  서울특별시 관악구 봉천동  1152   27  NaN  NaN  관악푸르지오102동        0  관악구  봉천동"
      ]
     },
     "execution_count": 25,
     "metadata": {},
     "output_type": "execute_result"
    }
   ],
   "source": [
    "df_xy_na.loc[df_xy_na['좌표X'].isna()]"
   ]
  },
  {
   "cell_type": "code",
   "execution_count": 26,
   "metadata": {},
   "outputs": [],
   "source": [
    "query = f'?query=서울시 관악구 봉천동 1717'\n",
    "response = requests.get(URL_GEO + query, headers=headers)"
   ]
  },
  {
   "cell_type": "code",
   "execution_count": 27,
   "metadata": {},
   "outputs": [],
   "source": [
    "df_xy_na.loc[df_xy_na['좌표X'].isna(), '좌표X'] = response.json()['addresses'][0]['x']\n",
    "df_xy_na.loc[df_xy_na['좌표Y'].isna(), '좌표Y'] = response.json()['addresses'][0]['y']"
   ]
  },
  {
   "cell_type": "code",
   "execution_count": 28,
   "metadata": {},
   "outputs": [
    {
     "data": {
      "text/plain": [
       "시군구        0\n",
       "번지         0\n",
       "도로명        0\n",
       "좌표X        0\n",
       "좌표Y        0\n",
       "아파트명       0\n",
       "is_test    0\n",
       "구          0\n",
       "동          0\n",
       "dtype: int64"
      ]
     },
     "execution_count": 28,
     "metadata": {},
     "output_type": "execute_result"
    }
   ],
   "source": [
    "df_xy_na.isna().sum()"
   ]
  },
  {
   "cell_type": "code",
   "execution_count": 29,
   "metadata": {},
   "outputs": [
    {
     "data": {
      "text/html": [
       "<div>\n",
       "<style scoped>\n",
       "    .dataframe tbody tr th:only-of-type {\n",
       "        vertical-align: middle;\n",
       "    }\n",
       "\n",
       "    .dataframe tbody tr th {\n",
       "        vertical-align: top;\n",
       "    }\n",
       "\n",
       "    .dataframe thead th {\n",
       "        text-align: right;\n",
       "    }\n",
       "</style>\n",
       "<table border=\"1\" class=\"dataframe\">\n",
       "  <thead>\n",
       "    <tr style=\"text-align: right;\">\n",
       "      <th></th>\n",
       "      <th>시군구</th>\n",
       "      <th>번지</th>\n",
       "      <th>도로명</th>\n",
       "      <th>좌표X</th>\n",
       "      <th>좌표Y</th>\n",
       "      <th>아파트명</th>\n",
       "      <th>is_test</th>\n",
       "      <th>구</th>\n",
       "      <th>동</th>\n",
       "    </tr>\n",
       "  </thead>\n",
       "  <tbody>\n",
       "    <tr>\n",
       "      <th>975</th>\n",
       "      <td>서울특별시 강남구 개포동</td>\n",
       "      <td>189</td>\n",
       "      <td>삼성로 14</td>\n",
       "      <td>127.0713671</td>\n",
       "      <td>37.4855215</td>\n",
       "      <td>개포주공4단지</td>\n",
       "      <td>0</td>\n",
       "      <td>강남구</td>\n",
       "      <td>개포동</td>\n",
       "    </tr>\n",
       "    <tr>\n",
       "      <th>986</th>\n",
       "      <td>서울특별시 강남구 개포동</td>\n",
       "      <td>185</td>\n",
       "      <td>개포로 516</td>\n",
       "      <td>127.0716669</td>\n",
       "      <td>37.4888519</td>\n",
       "      <td>개포주공7단지</td>\n",
       "      <td>0</td>\n",
       "      <td>강남구</td>\n",
       "      <td>개포동</td>\n",
       "    </tr>\n",
       "    <tr>\n",
       "      <th>1031</th>\n",
       "      <td>서울특별시 강남구 개포동</td>\n",
       "      <td>655-1</td>\n",
       "      <td>언주로 105</td>\n",
       "      <td>127.0526829</td>\n",
       "      <td>37.4817013</td>\n",
       "      <td>개포현대200동</td>\n",
       "      <td>0</td>\n",
       "      <td>강남구</td>\n",
       "      <td>개포동</td>\n",
       "    </tr>\n",
       "    <tr>\n",
       "      <th>1034</th>\n",
       "      <td>서울특별시 강남구 개포동</td>\n",
       "      <td>649</td>\n",
       "      <td>언주로 110</td>\n",
       "      <td>127.0541788</td>\n",
       "      <td>37.4845189</td>\n",
       "      <td>경남1</td>\n",
       "      <td>0</td>\n",
       "      <td>강남구</td>\n",
       "      <td>개포동</td>\n",
       "    </tr>\n",
       "    <tr>\n",
       "      <th>1047</th>\n",
       "      <td>서울특별시 강남구 개포동</td>\n",
       "      <td>649</td>\n",
       "      <td>언주로 110</td>\n",
       "      <td>127.0541788</td>\n",
       "      <td>37.4845189</td>\n",
       "      <td>경남2차</td>\n",
       "      <td>0</td>\n",
       "      <td>강남구</td>\n",
       "      <td>개포동</td>\n",
       "    </tr>\n",
       "  </tbody>\n",
       "</table>\n",
       "</div>"
      ],
      "text/plain": [
       "                시군구     번지      도로명          좌표X         좌표Y      아파트명  \\\n",
       "975   서울특별시 강남구 개포동    189   삼성로 14  127.0713671  37.4855215   개포주공4단지   \n",
       "986   서울특별시 강남구 개포동    185  개포로 516  127.0716669  37.4888519   개포주공7단지   \n",
       "1031  서울특별시 강남구 개포동  655-1  언주로 105  127.0526829  37.4817013  개포현대200동   \n",
       "1034  서울특별시 강남구 개포동    649  언주로 110  127.0541788  37.4845189       경남1   \n",
       "1047  서울특별시 강남구 개포동    649  언주로 110  127.0541788  37.4845189      경남2차   \n",
       "\n",
       "      is_test    구    동  \n",
       "975         0  강남구  개포동  \n",
       "986         0  강남구  개포동  \n",
       "1031        0  강남구  개포동  \n",
       "1034        0  강남구  개포동  \n",
       "1047        0  강남구  개포동  "
      ]
     },
     "execution_count": 29,
     "metadata": {},
     "output_type": "execute_result"
    }
   ],
   "source": [
    "df_xy_na.head()"
   ]
  },
  {
   "cell_type": "code",
   "execution_count": 30,
   "metadata": {},
   "outputs": [],
   "source": [
    "df_empty_xy = filtered_concat[(filtered_concat['좌표X'].isna()) & (filtered_concat['좌표Y'].isna())]"
   ]
  },
  {
   "cell_type": "code",
   "execution_count": 31,
   "metadata": {},
   "outputs": [],
   "source": [
    "df_empty_xy.drop(columns=['좌표X', '좌표Y'], inplace=True)"
   ]
  },
  {
   "cell_type": "code",
   "execution_count": 35,
   "metadata": {},
   "outputs": [],
   "source": [
    "df_fill_xy = pd.merge(df_empty_xy, df_xy_na, on=['시군구', '구', '동', '번지', '도로명', '아파트명', 'is_test'], how='left')"
   ]
  },
  {
   "cell_type": "code",
   "execution_count": 36,
   "metadata": {},
   "outputs": [
    {
     "name": "stdout",
     "output_type": "stream",
     "text": [
      "<class 'pandas.core.frame.DataFrame'>\n",
      "Int64Index: 876232 entries, 0 to 876231\n",
      "Data columns (total 10 columns):\n",
      " #   Column   Non-Null Count   Dtype  \n",
      "---  ------   --------------   -----  \n",
      " 0   시군구      876232 non-null  object \n",
      " 1   번지       876232 non-null  object \n",
      " 2   도로명      876232 non-null  object \n",
      " 3   아파트명     876232 non-null  object \n",
      " 4   is_test  876232 non-null  int64  \n",
      " 5   target   869670 non-null  float64\n",
      " 6   구        876232 non-null  object \n",
      " 7   동        876232 non-null  object \n",
      " 8   좌표X      876232 non-null  object \n",
      " 9   좌표Y      876232 non-null  object \n",
      "dtypes: float64(1), int64(1), object(8)\n",
      "memory usage: 73.5+ MB\n"
     ]
    }
   ],
   "source": [
    "df_fill_xy.info()"
   ]
  },
  {
   "cell_type": "code",
   "execution_count": 37,
   "metadata": {},
   "outputs": [
    {
     "data": {
      "text/plain": [
       "시군구           0\n",
       "번지            0\n",
       "도로명           0\n",
       "아파트명          0\n",
       "is_test       0\n",
       "target     6562\n",
       "구             0\n",
       "동             0\n",
       "좌표X           0\n",
       "좌표Y           0\n",
       "dtype: int64"
      ]
     },
     "execution_count": 37,
     "metadata": {},
     "output_type": "execute_result"
    }
   ],
   "source": [
    "df_fill_xy.isna().sum()"
   ]
  },
  {
   "cell_type": "code",
   "execution_count": 39,
   "metadata": {},
   "outputs": [],
   "source": [
    "## 비어있던 좌표X, 좌표Y를 채운 데이터프레임과 기존에 이미 값이 있던 데이터프레임을 concat\n",
    "df = pd.concat([df_xy_not_na, df_fill_xy])"
   ]
  },
  {
   "cell_type": "code",
   "execution_count": 40,
   "metadata": {},
   "outputs": [
    {
     "data": {
      "text/plain": [
       "시군구           0\n",
       "번지            0\n",
       "도로명           0\n",
       "좌표X           0\n",
       "좌표Y           0\n",
       "아파트명          0\n",
       "is_test       0\n",
       "target     9272\n",
       "구             0\n",
       "동             0\n",
       "dtype: int64"
      ]
     },
     "execution_count": 40,
     "metadata": {},
     "output_type": "execute_result"
    }
   ],
   "source": [
    "df.isna().sum()"
   ]
  },
  {
   "cell_type": "code",
   "execution_count": 41,
   "metadata": {},
   "outputs": [
    {
     "name": "stdout",
     "output_type": "stream",
     "text": [
      "<class 'pandas.core.frame.DataFrame'>\n",
      "Int64Index: 1128094 entries, 0 to 876231\n",
      "Data columns (total 10 columns):\n",
      " #   Column   Non-Null Count    Dtype  \n",
      "---  ------   --------------    -----  \n",
      " 0   시군구      1128094 non-null  object \n",
      " 1   번지       1128094 non-null  object \n",
      " 2   도로명      1128094 non-null  object \n",
      " 3   좌표X      1128094 non-null  object \n",
      " 4   좌표Y      1128094 non-null  object \n",
      " 5   아파트명     1128094 non-null  object \n",
      " 6   is_test  1128094 non-null  int64  \n",
      " 7   target   1118822 non-null  float64\n",
      " 8   구        1128094 non-null  object \n",
      " 9   동        1128094 non-null  object \n",
      "dtypes: float64(1), int64(1), object(8)\n",
      "memory usage: 94.7+ MB\n"
     ]
    }
   ],
   "source": [
    "df.info()"
   ]
  },
  {
   "cell_type": "code",
   "execution_count": 42,
   "metadata": {},
   "outputs": [
    {
     "name": "stdout",
     "output_type": "stream",
     "text": [
      "<class 'pandas.core.frame.DataFrame'>\n",
      "Int64Index: 1128094 entries, 0 to 9271\n",
      "Data columns (total 10 columns):\n",
      " #   Column   Non-Null Count    Dtype  \n",
      "---  ------   --------------    -----  \n",
      " 0   시군구      1128094 non-null  object \n",
      " 1   번지       1128094 non-null  object \n",
      " 2   도로명      1128094 non-null  object \n",
      " 3   좌표X      251862 non-null   float64\n",
      " 4   좌표Y      251862 non-null   float64\n",
      " 5   아파트명     1128094 non-null  object \n",
      " 6   is_test  1128094 non-null  int64  \n",
      " 7   target   1118822 non-null  float64\n",
      " 8   구        1128094 non-null  object \n",
      " 9   동        1128094 non-null  object \n",
      "dtypes: float64(3), int64(1), object(6)\n",
      "memory usage: 94.7+ MB\n"
     ]
    }
   ],
   "source": [
    "filtered_concat.info()"
   ]
  },
  {
   "cell_type": "markdown",
   "metadata": {},
   "source": [
    "## 2. subway_feature 에 행정동 추가\n",
    "이미 좌표X(경도), 좌표Y(위도)를 알고 있으므로, reverse geocoding을 통해 행정동을 알아낸다. <br>\n",
    "[🔗 Naver Reverse Geocoding API](https://api.ncloud-docs.com/docs/ai-naver-mapsreversegeocoding-gc)\n",
    "\n",
    "`?coords={입력_좌표}&sourcecrs={좌표계}&orders={변환_작업_이름}&output={출력_형식}`\n",
    "\n",
    "<b>sourcecrs</b> 좌표계 <br>\n",
    "default값(기본값)은 위경도 좌표계(epsg:4326)\n",
    "\n",
    "<b>coords</b> 입력 좌표\n",
    "\n",
    "<b>orders</b> 변환 작업 이름 <br>\n",
    "`legalcode` 좌표 to 법정동 <br>\n",
    "✅ `admcode` 좌표 to 행정동 <br>\n",
    "`addr` 좌표 to 지번 주소\n",
    "\n",
    "<b>output</b> 출력_형식<br>\n",
    "사용 가능한 값은 json, xml<br>\n",
    "default값(기본값)은 xml <br>\n",
    "✅ `json`"
   ]
  },
  {
   "cell_type": "code",
   "execution_count": 43,
   "metadata": {},
   "outputs": [],
   "source": [
    "ORDERS = 'admcode'\n",
    "OUTPUT = 'json'"
   ]
  },
  {
   "cell_type": "code",
   "execution_count": 44,
   "metadata": {},
   "outputs": [],
   "source": [
    "df_subway = pd.read_csv(PATH_SUBWAY)"
   ]
  },
  {
   "cell_type": "code",
   "execution_count": 45,
   "metadata": {},
   "outputs": [
    {
     "name": "stdout",
     "output_type": "stream",
     "text": [
      "<class 'pandas.core.frame.DataFrame'>\n",
      "RangeIndex: 768 entries, 0 to 767\n",
      "Data columns (total 5 columns):\n",
      " #   Column  Non-Null Count  Dtype  \n",
      "---  ------  --------------  -----  \n",
      " 0   역사_ID   768 non-null    int64  \n",
      " 1   역사명     768 non-null    object \n",
      " 2   호선      768 non-null    object \n",
      " 3   위도      768 non-null    float64\n",
      " 4   경도      768 non-null    float64\n",
      "dtypes: float64(2), int64(1), object(2)\n",
      "memory usage: 30.1+ KB\n"
     ]
    }
   ],
   "source": [
    "df_subway.info()"
   ]
  },
  {
   "cell_type": "code",
   "execution_count": 46,
   "metadata": {},
   "outputs": [],
   "source": [
    "URL_REVERSE_GEO = 'https://naveropenapi.apigw.ntruss.com/map-reversegeocode/v2/gc'"
   ]
  },
  {
   "cell_type": "code",
   "execution_count": 47,
   "metadata": {},
   "outputs": [],
   "source": [
    "df_subway['시군구'] = np.nan\n",
    "df_subway['시'] = np.nan\n",
    "df_subway['구'] = np.nan\n",
    "df_subway['동'] = np.nan"
   ]
  },
  {
   "cell_type": "code",
   "execution_count": 48,
   "metadata": {},
   "outputs": [],
   "source": [
    "def fill_address_from_xy(df):\n",
    "    try:\n",
    "        for i in tqdm(range(len(df)), desc=\"Processing\"):\n",
    "            station = df.iloc[i]['역사명']\n",
    "            x = df.iloc[i]['경도']\n",
    "            y = df.iloc[i]['위도']\n",
    "            query = f'?coords={x},{y}&orders={ORDERS}&output={OUTPUT}'\n",
    "            response = requests.get(URL_REVERSE_GEO+query, headers=headers)\n",
    "            if response.status_code == 200:\n",
    "                data = response.json()\n",
    "                if (data['status']['code'] == 0) & (len(data['results']) > 0):\n",
    "                    address = f\"{data['results'][0]['region']['area1']['name']} {data['results'][0]['region']['area2']['name']} {data['results'][0]['region']['area3']['name']}\"\n",
    "                    addr1 = data['results'][0]['region']['area1']['name']\n",
    "                    addr2 = data['results'][0]['region']['area2']['name']\n",
    "                    addr3 = data['results'][0]['region']['area3']['name']\n",
    "                    df.iloc[i, df.columns.get_loc('시군구')] = address\n",
    "                    df.iloc[i, df.columns.get_loc('시')] = addr1\n",
    "                    df.iloc[i, df.columns.get_loc('구')] = addr2\n",
    "                    df.iloc[i, df.columns.get_loc('동')] = addr3\n",
    "                else:\n",
    "                    with open(\"지하철주소확인.txt\", 'a') as f:\n",
    "                        f.write(f'{station}\\n{data}\\n---------\\n')\n",
    "            else:\n",
    "                error_log(\"error_지하철주소확인.txt\", station, response)\n",
    "    except Exception as e:\n",
    "        error_log(\"error_지하철주소확인.txt\", station, response)\n",
    "        print(station, '\\n[ERROR]', e)"
   ]
  },
  {
   "cell_type": "code",
   "execution_count": 49,
   "metadata": {},
   "outputs": [
    {
     "name": "stderr",
     "output_type": "stream",
     "text": [
      "Processing: 100%|██████████| 768/768 [00:38<00:00, 20.13it/s]\n"
     ]
    }
   ],
   "source": [
    "fill_address_from_xy(df_subway)"
   ]
  },
  {
   "cell_type": "code",
   "execution_count": 50,
   "metadata": {},
   "outputs": [
    {
     "data": {
      "text/html": [
       "<div>\n",
       "<style scoped>\n",
       "    .dataframe tbody tr th:only-of-type {\n",
       "        vertical-align: middle;\n",
       "    }\n",
       "\n",
       "    .dataframe tbody tr th {\n",
       "        vertical-align: top;\n",
       "    }\n",
       "\n",
       "    .dataframe thead th {\n",
       "        text-align: right;\n",
       "    }\n",
       "</style>\n",
       "<table border=\"1\" class=\"dataframe\">\n",
       "  <thead>\n",
       "    <tr style=\"text-align: right;\">\n",
       "      <th></th>\n",
       "      <th>역사_ID</th>\n",
       "      <th>역사명</th>\n",
       "      <th>호선</th>\n",
       "      <th>위도</th>\n",
       "      <th>경도</th>\n",
       "      <th>시군구</th>\n",
       "      <th>시</th>\n",
       "      <th>구</th>\n",
       "      <th>동</th>\n",
       "    </tr>\n",
       "  </thead>\n",
       "  <tbody>\n",
       "    <tr>\n",
       "      <th>0</th>\n",
       "      <td>9996</td>\n",
       "      <td>미사</td>\n",
       "      <td>5호선</td>\n",
       "      <td>37.560927</td>\n",
       "      <td>127.193877</td>\n",
       "      <td>경기도 하남시 미사1동</td>\n",
       "      <td>경기도</td>\n",
       "      <td>하남시</td>\n",
       "      <td>미사1동</td>\n",
       "    </tr>\n",
       "    <tr>\n",
       "      <th>1</th>\n",
       "      <td>9995</td>\n",
       "      <td>강일</td>\n",
       "      <td>5호선</td>\n",
       "      <td>37.557490</td>\n",
       "      <td>127.175930</td>\n",
       "      <td>서울특별시 강동구 강일동</td>\n",
       "      <td>서울특별시</td>\n",
       "      <td>강동구</td>\n",
       "      <td>강일동</td>\n",
       "    </tr>\n",
       "    <tr>\n",
       "      <th>2</th>\n",
       "      <td>4929</td>\n",
       "      <td>김포공항</td>\n",
       "      <td>김포골드라인</td>\n",
       "      <td>37.562360</td>\n",
       "      <td>126.801868</td>\n",
       "      <td>서울특별시 강서구 방화2동</td>\n",
       "      <td>서울특별시</td>\n",
       "      <td>강서구</td>\n",
       "      <td>방화2동</td>\n",
       "    </tr>\n",
       "    <tr>\n",
       "      <th>3</th>\n",
       "      <td>4928</td>\n",
       "      <td>고촌</td>\n",
       "      <td>김포골드라인</td>\n",
       "      <td>37.601243</td>\n",
       "      <td>126.770345</td>\n",
       "      <td>경기도 김포시 고촌읍</td>\n",
       "      <td>경기도</td>\n",
       "      <td>김포시</td>\n",
       "      <td>고촌읍</td>\n",
       "    </tr>\n",
       "    <tr>\n",
       "      <th>4</th>\n",
       "      <td>4927</td>\n",
       "      <td>풍무</td>\n",
       "      <td>김포골드라인</td>\n",
       "      <td>37.612488</td>\n",
       "      <td>126.732387</td>\n",
       "      <td>경기도 김포시 사우동</td>\n",
       "      <td>경기도</td>\n",
       "      <td>김포시</td>\n",
       "      <td>사우동</td>\n",
       "    </tr>\n",
       "    <tr>\n",
       "      <th>...</th>\n",
       "      <td>...</td>\n",
       "      <td>...</td>\n",
       "      <td>...</td>\n",
       "      <td>...</td>\n",
       "      <td>...</td>\n",
       "      <td>...</td>\n",
       "      <td>...</td>\n",
       "      <td>...</td>\n",
       "      <td>...</td>\n",
       "    </tr>\n",
       "    <tr>\n",
       "      <th>763</th>\n",
       "      <td>154</td>\n",
       "      <td>종로5가</td>\n",
       "      <td>1호선</td>\n",
       "      <td>37.570926</td>\n",
       "      <td>127.001849</td>\n",
       "      <td>서울특별시 종로구 종로5.6가동</td>\n",
       "      <td>서울특별시</td>\n",
       "      <td>종로구</td>\n",
       "      <td>종로5.6가동</td>\n",
       "    </tr>\n",
       "    <tr>\n",
       "      <th>764</th>\n",
       "      <td>153</td>\n",
       "      <td>종로3가</td>\n",
       "      <td>1호선</td>\n",
       "      <td>37.570406</td>\n",
       "      <td>126.991847</td>\n",
       "      <td>서울특별시 종로구 종로1.2.3.4가동</td>\n",
       "      <td>서울특별시</td>\n",
       "      <td>종로구</td>\n",
       "      <td>종로1.2.3.4가동</td>\n",
       "    </tr>\n",
       "    <tr>\n",
       "      <th>765</th>\n",
       "      <td>152</td>\n",
       "      <td>종각</td>\n",
       "      <td>1호선</td>\n",
       "      <td>37.570161</td>\n",
       "      <td>126.982923</td>\n",
       "      <td>서울특별시 종로구 종로1.2.3.4가동</td>\n",
       "      <td>서울특별시</td>\n",
       "      <td>종로구</td>\n",
       "      <td>종로1.2.3.4가동</td>\n",
       "    </tr>\n",
       "    <tr>\n",
       "      <th>766</th>\n",
       "      <td>151</td>\n",
       "      <td>시청</td>\n",
       "      <td>1호선</td>\n",
       "      <td>37.565715</td>\n",
       "      <td>126.977088</td>\n",
       "      <td>서울특별시 중구 소공동</td>\n",
       "      <td>서울특별시</td>\n",
       "      <td>중구</td>\n",
       "      <td>소공동</td>\n",
       "    </tr>\n",
       "    <tr>\n",
       "      <th>767</th>\n",
       "      <td>150</td>\n",
       "      <td>서울역</td>\n",
       "      <td>1호선</td>\n",
       "      <td>37.556228</td>\n",
       "      <td>126.972135</td>\n",
       "      <td>서울특별시 중구 회현동</td>\n",
       "      <td>서울특별시</td>\n",
       "      <td>중구</td>\n",
       "      <td>회현동</td>\n",
       "    </tr>\n",
       "  </tbody>\n",
       "</table>\n",
       "<p>768 rows × 9 columns</p>\n",
       "</div>"
      ],
      "text/plain": [
       "     역사_ID   역사명      호선         위도          경도                    시군구      시  \\\n",
       "0     9996    미사     5호선  37.560927  127.193877           경기도 하남시 미사1동    경기도   \n",
       "1     9995    강일     5호선  37.557490  127.175930          서울특별시 강동구 강일동  서울특별시   \n",
       "2     4929  김포공항  김포골드라인  37.562360  126.801868         서울특별시 강서구 방화2동  서울특별시   \n",
       "3     4928    고촌  김포골드라인  37.601243  126.770345            경기도 김포시 고촌읍    경기도   \n",
       "4     4927    풍무  김포골드라인  37.612488  126.732387            경기도 김포시 사우동    경기도   \n",
       "..     ...   ...     ...        ...         ...                    ...    ...   \n",
       "763    154  종로5가     1호선  37.570926  127.001849      서울특별시 종로구 종로5.6가동  서울특별시   \n",
       "764    153  종로3가     1호선  37.570406  126.991847  서울특별시 종로구 종로1.2.3.4가동  서울특별시   \n",
       "765    152    종각     1호선  37.570161  126.982923  서울특별시 종로구 종로1.2.3.4가동  서울특별시   \n",
       "766    151    시청     1호선  37.565715  126.977088           서울특별시 중구 소공동  서울특별시   \n",
       "767    150   서울역     1호선  37.556228  126.972135           서울특별시 중구 회현동  서울특별시   \n",
       "\n",
       "       구            동  \n",
       "0    하남시         미사1동  \n",
       "1    강동구          강일동  \n",
       "2    강서구         방화2동  \n",
       "3    김포시          고촌읍  \n",
       "4    김포시          사우동  \n",
       "..   ...          ...  \n",
       "763  종로구      종로5.6가동  \n",
       "764  종로구  종로1.2.3.4가동  \n",
       "765  종로구  종로1.2.3.4가동  \n",
       "766   중구          소공동  \n",
       "767   중구          회현동  \n",
       "\n",
       "[768 rows x 9 columns]"
      ]
     },
     "execution_count": 50,
     "metadata": {},
     "output_type": "execute_result"
    }
   ],
   "source": [
    "df_subway"
   ]
  },
  {
   "cell_type": "code",
   "execution_count": 51,
   "metadata": {},
   "outputs": [
    {
     "data": {
      "text/plain": [
       "역사_ID    0\n",
       "역사명      0\n",
       "호선       0\n",
       "위도       0\n",
       "경도       0\n",
       "시군구      0\n",
       "시        0\n",
       "구        0\n",
       "동        0\n",
       "dtype: int64"
      ]
     },
     "execution_count": 51,
     "metadata": {},
     "output_type": "execute_result"
    }
   ],
   "source": [
    "df_subway.isna().sum()"
   ]
  },
  {
   "cell_type": "markdown",
   "metadata": {},
   "source": [
    "## 3. 같은 '구'에 속한 아파트와 지하철역 거리 계산 후 역세권/비역세권 산정\n",
    "\n",
    "- 소수점 2자리: 약 1.1킬로미터의 정확도\n",
    "- 소수점 3자리: 약 110미터의 정확도\n",
    "- <b> 소수점 4자리: 약 11미터의 정확도 </b>\n",
    "- 소수점 5자리: 약 1.1미터의 정확도\n",
    "- 소수점 6자리: 약 0.11미터의 정확도\n",
    "\n",
    "평균 보행 속도로 계산 시 1분에 약 80미터\n",
    "\n",
    "따라서 10미터를 걷는 데는 대략 10m / 80m/분 = 0.125분, 즉 약 7.5초\n",
    "\n",
    "계산의 용이성을 위해 좌표X, 좌표Y의 단위를 소수점 4자리로 round 하여 사용함\n",
    "\n",
    "어차피 '구'단위로 비교해서 계산을 한다면 df_subway에서 서울특별시가 아닌 row들은 제거해도 괜찮았을 듯 (크게 의미 x)"
   ]
  },
  {
   "cell_type": "code",
   "execution_count": 52,
   "metadata": {},
   "outputs": [],
   "source": [
    "df['좌표Y'] = df['좌표Y'].astype(float).round(4)\n",
    "df['좌표X'] = df['좌표X'].astype(float).round(4)\n",
    "df_subway['위도'] = df_subway['위도'].round(4)\n",
    "df_subway['경도'] = df_subway['경도'].round(4)"
   ]
  },
  {
   "cell_type": "code",
   "execution_count": 53,
   "metadata": {},
   "outputs": [],
   "source": [
    "# 시군구, 년월 등 분할할 수 있는 변수들은 세부사항 고려를 용이하게 하기 위해 모두 분할해 주겠습니다.\n",
    "df['구'] = df['시군구'].map(lambda x : x.split()[1])\n",
    "df['동'] = df['시군구'].map(lambda x : x.split()[2])"
   ]
  },
  {
   "cell_type": "code",
   "execution_count": 80,
   "metadata": {},
   "outputs": [
    {
     "data": {
      "text/plain": [
       "Index(['시군구', '번지', '도로명', '좌표X', '좌표Y', '아파트명', 'is_test', 'target', '구',\n",
       "       '동'],\n",
       "      dtype='object')"
      ]
     },
     "execution_count": 80,
     "metadata": {},
     "output_type": "execute_result"
    }
   ],
   "source": [
    "df.columns"
   ]
  },
  {
   "cell_type": "code",
   "execution_count": 81,
   "metadata": {},
   "outputs": [],
   "source": [
    "important_columns = ['시군구', '번지', '도로명', '구', '동', '아파트명', '좌표X', '좌표Y']\n",
    "\n",
    "df_compare = df[important_columns]"
   ]
  },
  {
   "cell_type": "code",
   "execution_count": 82,
   "metadata": {},
   "outputs": [],
   "source": [
    "df_compare.drop_duplicates(inplace=True)"
   ]
  },
  {
   "cell_type": "code",
   "execution_count": 83,
   "metadata": {},
   "outputs": [
    {
     "name": "stdout",
     "output_type": "stream",
     "text": [
      "<class 'pandas.core.frame.DataFrame'>\n",
      "Int64Index: 9519 entries, 0 to 876024\n",
      "Data columns (total 8 columns):\n",
      " #   Column  Non-Null Count  Dtype  \n",
      "---  ------  --------------  -----  \n",
      " 0   시군구     9519 non-null   object \n",
      " 1   번지      9519 non-null   object \n",
      " 2   도로명     9519 non-null   object \n",
      " 3   구       9519 non-null   object \n",
      " 4   동       9519 non-null   object \n",
      " 5   아파트명    9519 non-null   object \n",
      " 6   좌표X     9519 non-null   float64\n",
      " 7   좌표Y     9519 non-null   float64\n",
      "dtypes: float64(2), object(6)\n",
      "memory usage: 669.3+ KB\n"
     ]
    }
   ],
   "source": [
    "df_compare.info()"
   ]
  },
  {
   "cell_type": "code",
   "execution_count": 84,
   "metadata": {},
   "outputs": [],
   "source": [
    "from geopy.distance import geodesic"
   ]
  },
  {
   "cell_type": "code",
   "execution_count": 85,
   "metadata": {},
   "outputs": [],
   "source": [
    "def haversine(point1, point2):\n",
    "    distance = geodesic(point1, point2).meters    \n",
    "    is_in_500m = distance <= 500\n",
    "    return is_in_500m\n"
   ]
  },
  {
   "cell_type": "code",
   "execution_count": 86,
   "metadata": {},
   "outputs": [],
   "source": [
    "df_compare['역세권'] = np.nan"
   ]
  },
  {
   "cell_type": "markdown",
   "metadata": {},
   "source": [
    "#### [회고 🦧]\n",
    "발단: baseline_code에서 좌표X, 좌표Y가 선형 보간 처리가 된 것을 파악하지 못 함\n",
    "\n",
    "역세권 관련해 역 개수가 유의미한 듯 하여 500m 이내의 역 개수를 피처로 추가했는데 성능 하락 --> <br>\n",
    "인근 지하철 역 수 자체보다는, 지역구가 target에 더 큰 영향을 미치는 것이 원인으로 판단 --> <br>\n",
    "\"지역구 + 역세권 여부\" 형태의 범주형 데이터를 추가하는 것으로 방향성을 잡음\n",
    "\n",
    "이후 선형 보간 처리가 된 것을 확인하고 주소로 좌표X, 좌표Y를 API를 통해 보완했으나 방향성은 바꾸지 않았는데\n",
    "\n",
    "겹치는 역 개수, 지하철 노선도 중요도 등을 적용했으면 좀 더 유의미한 피처 엔지니어링이 되었을 것 같다"
   ]
  },
  {
   "cell_type": "code",
   "execution_count": 87,
   "metadata": {},
   "outputs": [],
   "source": [
    "def compare_distance(df, subway):\n",
    "    ## 구 단위로 비교\n",
    "    try:\n",
    "        for i in tqdm(range(len(df)), desc=\"Processing\"):\n",
    "            area = df.iloc[i]['구']\n",
    "            filtered = subway[subway['구'] == area]\n",
    "            point1 = (df.iloc[i]['좌표Y'], df.iloc[i]['좌표X'])\n",
    "            cnt = 0\n",
    "            for j in range(len(filtered)):\n",
    "                point2 = (filtered.iloc[j]['위도'], filtered.iloc[j]['경도'])\n",
    "                is_in_500m = haversine(point1, point2)\n",
    "                if is_in_500m:\n",
    "                    cnt+=1\n",
    "                if cnt:\n",
    "                    is_close = area + ' 역세권'\n",
    "                else:\n",
    "                    is_close = area + ' 비역세권'\n",
    "                df.iloc[i, df.columns.get_loc('역세권')] = is_close\n",
    "            # print(df.iloc[i]['아파트명'], point1, \"의 인근역 수:\", cnt, \",\", is_close)\n",
    "    except Exception as e:\n",
    "        print('[ERROR]', df.iloc[i], e)"
   ]
  },
  {
   "cell_type": "code",
   "execution_count": 88,
   "metadata": {},
   "outputs": [
    {
     "name": "stderr",
     "output_type": "stream",
     "text": [
      "Processing: 100%|██████████| 9519/9519 [00:51<00:00, 186.27it/s]\n"
     ]
    }
   ],
   "source": [
    "compare_distance(df_compare, df_subway)"
   ]
  },
  {
   "cell_type": "code",
   "execution_count": 89,
   "metadata": {},
   "outputs": [
    {
     "data": {
      "text/html": [
       "<div>\n",
       "<style scoped>\n",
       "    .dataframe tbody tr th:only-of-type {\n",
       "        vertical-align: middle;\n",
       "    }\n",
       "\n",
       "    .dataframe tbody tr th {\n",
       "        vertical-align: top;\n",
       "    }\n",
       "\n",
       "    .dataframe thead th {\n",
       "        text-align: right;\n",
       "    }\n",
       "</style>\n",
       "<table border=\"1\" class=\"dataframe\">\n",
       "  <thead>\n",
       "    <tr style=\"text-align: right;\">\n",
       "      <th></th>\n",
       "      <th>시군구</th>\n",
       "      <th>번지</th>\n",
       "      <th>도로명</th>\n",
       "      <th>구</th>\n",
       "      <th>동</th>\n",
       "      <th>아파트명</th>\n",
       "      <th>좌표X</th>\n",
       "      <th>좌표Y</th>\n",
       "      <th>역세권</th>\n",
       "    </tr>\n",
       "  </thead>\n",
       "  <tbody>\n",
       "    <tr>\n",
       "      <th>0</th>\n",
       "      <td>서울특별시 강남구 개포동</td>\n",
       "      <td>658-1</td>\n",
       "      <td>언주로 3</td>\n",
       "      <td>강남구</td>\n",
       "      <td>개포동</td>\n",
       "      <td>개포6차우성</td>\n",
       "      <td>127.0572</td>\n",
       "      <td>37.4768</td>\n",
       "      <td>강남구 비역세권</td>\n",
       "    </tr>\n",
       "    <tr>\n",
       "      <th>12</th>\n",
       "      <td>서울특별시 강남구 개포동</td>\n",
       "      <td>652</td>\n",
       "      <td>개포로 307</td>\n",
       "      <td>강남구</td>\n",
       "      <td>개포동</td>\n",
       "      <td>개포우성3차</td>\n",
       "      <td>127.0560</td>\n",
       "      <td>37.4839</td>\n",
       "      <td>강남구 역세권</td>\n",
       "    </tr>\n",
       "    <tr>\n",
       "      <th>25</th>\n",
       "      <td>서울특별시 강남구 개포동</td>\n",
       "      <td>12-2</td>\n",
       "      <td>개포로109길 69</td>\n",
       "      <td>강남구</td>\n",
       "      <td>개포동</td>\n",
       "      <td>개포자이</td>\n",
       "      <td>127.0766</td>\n",
       "      <td>37.4963</td>\n",
       "      <td>강남구 역세권</td>\n",
       "    </tr>\n",
       "    <tr>\n",
       "      <th>38</th>\n",
       "      <td>서울특별시 강남구 개포동</td>\n",
       "      <td>141</td>\n",
       "      <td>개포로 310</td>\n",
       "      <td>강남구</td>\n",
       "      <td>개포동</td>\n",
       "      <td>개포주공1단지</td>\n",
       "      <td>127.0585</td>\n",
       "      <td>37.4800</td>\n",
       "      <td>강남구 비역세권</td>\n",
       "    </tr>\n",
       "    <tr>\n",
       "      <th>44</th>\n",
       "      <td>서울특별시 강남구 개포동</td>\n",
       "      <td>141</td>\n",
       "      <td>선릉로 7</td>\n",
       "      <td>강남구</td>\n",
       "      <td>개포동</td>\n",
       "      <td>개포주공1단지</td>\n",
       "      <td>127.0585</td>\n",
       "      <td>37.4800</td>\n",
       "      <td>강남구 비역세권</td>\n",
       "    </tr>\n",
       "  </tbody>\n",
       "</table>\n",
       "</div>"
      ],
      "text/plain": [
       "              시군구     번지         도로명    구    동     아파트명       좌표X      좌표Y  \\\n",
       "0   서울특별시 강남구 개포동  658-1       언주로 3  강남구  개포동   개포6차우성  127.0572  37.4768   \n",
       "12  서울특별시 강남구 개포동    652     개포로 307  강남구  개포동   개포우성3차  127.0560  37.4839   \n",
       "25  서울특별시 강남구 개포동   12-2  개포로109길 69  강남구  개포동     개포자이  127.0766  37.4963   \n",
       "38  서울특별시 강남구 개포동    141     개포로 310  강남구  개포동  개포주공1단지  127.0585  37.4800   \n",
       "44  서울특별시 강남구 개포동    141       선릉로 7  강남구  개포동  개포주공1단지  127.0585  37.4800   \n",
       "\n",
       "         역세권  \n",
       "0   강남구 비역세권  \n",
       "12   강남구 역세권  \n",
       "25   강남구 역세권  \n",
       "38  강남구 비역세권  \n",
       "44  강남구 비역세권  "
      ]
     },
     "execution_count": 89,
     "metadata": {},
     "output_type": "execute_result"
    }
   ],
   "source": [
    "df_compare.head()"
   ]
  },
  {
   "cell_type": "code",
   "execution_count": 90,
   "metadata": {},
   "outputs": [
    {
     "name": "stdout",
     "output_type": "stream",
     "text": [
      "<class 'pandas.core.frame.DataFrame'>\n",
      "Int64Index: 9519 entries, 0 to 876024\n",
      "Data columns (total 9 columns):\n",
      " #   Column  Non-Null Count  Dtype  \n",
      "---  ------  --------------  -----  \n",
      " 0   시군구     9519 non-null   object \n",
      " 1   번지      9519 non-null   object \n",
      " 2   도로명     9519 non-null   object \n",
      " 3   구       9519 non-null   object \n",
      " 4   동       9519 non-null   object \n",
      " 5   아파트명    9519 non-null   object \n",
      " 6   좌표X     9519 non-null   float64\n",
      " 7   좌표Y     9519 non-null   float64\n",
      " 8   역세권     9519 non-null   object \n",
      "dtypes: float64(2), object(7)\n",
      "memory usage: 743.7+ KB\n"
     ]
    }
   ],
   "source": [
    "df_compare.info()"
   ]
  },
  {
   "cell_type": "code",
   "execution_count": 91,
   "metadata": {},
   "outputs": [
    {
     "data": {
      "text/plain": [
       "시군구     0\n",
       "번지      0\n",
       "도로명     0\n",
       "구       0\n",
       "동       0\n",
       "아파트명    0\n",
       "좌표X     0\n",
       "좌표Y     0\n",
       "역세권     0\n",
       "dtype: int64"
      ]
     },
     "execution_count": 91,
     "metadata": {},
     "output_type": "execute_result"
    }
   ],
   "source": [
    "df_compare.isna().sum()"
   ]
  },
  {
   "cell_type": "markdown",
   "metadata": {},
   "source": [
    "## 4. 각 구 역세권/비역세권별 target 평균으로 랭크 산정\n",
    "범주형 칼럼으로 모델이 학습을 잘 할 수 있을지 우려 + 이후 다중공산성을 완화하고자 역세권에서 구명을 제거하기 때문에, <br>\n",
    "target 평균으로 랭크를 산정하여 피처로 추가함.\n",
    "\n",
    "시기적인 고려 없이 아주 단순한 계산으로 '역세권'별 전체 target의 mean으로 계산했기 때문에, 좀 더 개선의 필요성이 있음. "
   ]
  },
  {
   "cell_type": "code",
   "execution_count": 92,
   "metadata": {},
   "outputs": [
    {
     "name": "stdout",
     "output_type": "stream",
     "text": [
      "<class 'pandas.core.frame.DataFrame'>\n",
      "Int64Index: 1128094 entries, 0 to 9271\n",
      "Data columns (total 8 columns):\n",
      " #   Column   Non-Null Count    Dtype  \n",
      "---  ------   --------------    -----  \n",
      " 0   시군구      1128094 non-null  object \n",
      " 1   번지       1128094 non-null  object \n",
      " 2   도로명      1128094 non-null  object \n",
      " 3   아파트명     1128094 non-null  object \n",
      " 4   is_test  1128094 non-null  int64  \n",
      " 5   target   1118822 non-null  float64\n",
      " 6   구        1128094 non-null  object \n",
      " 7   동        1128094 non-null  object \n",
      "dtypes: float64(1), int64(1), object(6)\n",
      "memory usage: 77.5+ MB\n"
     ]
    }
   ],
   "source": [
    "filtered_concat.info()"
   ]
  },
  {
   "cell_type": "code",
   "execution_count": null,
   "metadata": {},
   "outputs": [],
   "source": [
    "del filtered_concat['좌표X']\n",
    "del filtered_concat['좌표Y']"
   ]
  },
  {
   "cell_type": "code",
   "execution_count": 98,
   "metadata": {},
   "outputs": [],
   "source": [
    "df_merged = pd.merge(filtered_concat, df_compare, on=['시군구', '번지', '도로명', '아파트명', '구', '동'], how='left')"
   ]
  },
  {
   "cell_type": "code",
   "execution_count": 99,
   "metadata": {},
   "outputs": [
    {
     "name": "stdout",
     "output_type": "stream",
     "text": [
      "<class 'pandas.core.frame.DataFrame'>\n",
      "Int64Index: 1128094 entries, 0 to 1128093\n",
      "Data columns (total 11 columns):\n",
      " #   Column   Non-Null Count    Dtype  \n",
      "---  ------   --------------    -----  \n",
      " 0   시군구      1128094 non-null  object \n",
      " 1   번지       1128094 non-null  object \n",
      " 2   도로명      1128094 non-null  object \n",
      " 3   아파트명     1128094 non-null  object \n",
      " 4   is_test  1128094 non-null  int64  \n",
      " 5   target   1118822 non-null  float64\n",
      " 6   구        1128094 non-null  object \n",
      " 7   동        1128094 non-null  object \n",
      " 8   좌표X      1128094 non-null  float64\n",
      " 9   좌표Y      1128094 non-null  float64\n",
      " 10  역세권      1128094 non-null  object \n",
      "dtypes: float64(3), int64(1), object(7)\n",
      "memory usage: 103.3+ MB\n"
     ]
    }
   ],
   "source": [
    "df_merged.info()"
   ]
  },
  {
   "cell_type": "code",
   "execution_count": 100,
   "metadata": {},
   "outputs": [
    {
     "name": "stdout",
     "output_type": "stream",
     "text": [
      "<class 'pandas.core.frame.DataFrame'>\n",
      "Int64Index: 1128094 entries, 0 to 9271\n",
      "Data columns (total 8 columns):\n",
      " #   Column   Non-Null Count    Dtype  \n",
      "---  ------   --------------    -----  \n",
      " 0   시군구      1128094 non-null  object \n",
      " 1   번지       1128094 non-null  object \n",
      " 2   도로명      1128094 non-null  object \n",
      " 3   아파트명     1128094 non-null  object \n",
      " 4   is_test  1128094 non-null  int64  \n",
      " 5   target   1118822 non-null  float64\n",
      " 6   구        1128094 non-null  object \n",
      " 7   동        1128094 non-null  object \n",
      "dtypes: float64(1), int64(1), object(6)\n",
      "memory usage: 77.5+ MB\n"
     ]
    }
   ],
   "source": [
    "filtered_concat.info()"
   ]
  },
  {
   "cell_type": "code",
   "execution_count": 103,
   "metadata": {},
   "outputs": [],
   "source": [
    "filtered_group = df_merged.groupby(['구', '역세권'])['target'].apply(lambda x: list(x.unique())).reset_index()"
   ]
  },
  {
   "cell_type": "code",
   "execution_count": 105,
   "metadata": {},
   "outputs": [
    {
     "data": {
      "text/html": [
       "<div>\n",
       "<style scoped>\n",
       "    .dataframe tbody tr th:only-of-type {\n",
       "        vertical-align: middle;\n",
       "    }\n",
       "\n",
       "    .dataframe tbody tr th {\n",
       "        vertical-align: top;\n",
       "    }\n",
       "\n",
       "    .dataframe thead th {\n",
       "        text-align: right;\n",
       "    }\n",
       "</style>\n",
       "<table border=\"1\" class=\"dataframe\">\n",
       "  <thead>\n",
       "    <tr style=\"text-align: right;\">\n",
       "      <th></th>\n",
       "      <th>구</th>\n",
       "      <th>역세권</th>\n",
       "      <th>target</th>\n",
       "    </tr>\n",
       "  </thead>\n",
       "  <tbody>\n",
       "    <tr>\n",
       "      <th>0</th>\n",
       "      <td>강남구</td>\n",
       "      <td>강남구 비역세권</td>\n",
       "      <td>[124000.0, 123500.0, 91500.0, 130000.0, 117000...</td>\n",
       "    </tr>\n",
       "    <tr>\n",
       "      <th>1</th>\n",
       "      <td>강남구</td>\n",
       "      <td>강남구 역세권</td>\n",
       "      <td>[152000.0, 182000.0, 170000.0, 185000.0, 17500...</td>\n",
       "    </tr>\n",
       "    <tr>\n",
       "      <th>2</th>\n",
       "      <td>강동구</td>\n",
       "      <td>강동구 비역세권</td>\n",
       "      <td>[54000.0, 55500.0, 53900.0, 57000.0, 56000.0, ...</td>\n",
       "    </tr>\n",
       "    <tr>\n",
       "      <th>3</th>\n",
       "      <td>강동구</td>\n",
       "      <td>강동구 역세권</td>\n",
       "      <td>[59500.0, 60000.0, 53800.0, 58000.0, 59000.0, ...</td>\n",
       "    </tr>\n",
       "    <tr>\n",
       "      <th>4</th>\n",
       "      <td>강북구</td>\n",
       "      <td>강북구 비역세권</td>\n",
       "      <td>[45000.0, 65500.0, 58900.0, 60000.0, 56300.0, ...</td>\n",
       "    </tr>\n",
       "    <tr>\n",
       "      <th>5</th>\n",
       "      <td>강북구</td>\n",
       "      <td>강북구 역세권</td>\n",
       "      <td>[42500.0, 39000.0, 44200.0, 38600.0, 45200.0, ...</td>\n",
       "    </tr>\n",
       "    <tr>\n",
       "      <th>6</th>\n",
       "      <td>강서구</td>\n",
       "      <td>강서구 비역세권</td>\n",
       "      <td>[32750.0, 30800.0, 25000.0, 25900.0, 39300.0, ...</td>\n",
       "    </tr>\n",
       "    <tr>\n",
       "      <th>7</th>\n",
       "      <td>강서구</td>\n",
       "      <td>강서구 역세권</td>\n",
       "      <td>[32300.0, 33900.0, 46500.0, 32000.0, 42300.0, ...</td>\n",
       "    </tr>\n",
       "    <tr>\n",
       "      <th>8</th>\n",
       "      <td>관악구</td>\n",
       "      <td>관악구 비역세권</td>\n",
       "      <td>[55500.0, 53000.0, 71500.0, 56000.0, 65500.0, ...</td>\n",
       "    </tr>\n",
       "    <tr>\n",
       "      <th>9</th>\n",
       "      <td>관악구</td>\n",
       "      <td>관악구 역세권</td>\n",
       "      <td>[40800.0, 56000.0, 35400.0, 29800.0, 31200.0, ...</td>\n",
       "    </tr>\n",
       "    <tr>\n",
       "      <th>10</th>\n",
       "      <td>광진구</td>\n",
       "      <td>광진구 비역세권</td>\n",
       "      <td>[122000.0, 126000.0, 124000.0, 120000.0, 13440...</td>\n",
       "    </tr>\n",
       "    <tr>\n",
       "      <th>11</th>\n",
       "      <td>광진구</td>\n",
       "      <td>광진구 역세권</td>\n",
       "      <td>[135000.0, 129800.0, 153000.0, 89500.0, 111800...</td>\n",
       "    </tr>\n",
       "    <tr>\n",
       "      <th>12</th>\n",
       "      <td>구로구</td>\n",
       "      <td>구로구 비역세권</td>\n",
       "      <td>[50500.0, 50200.0, 50000.0, 47000.0, 52500.0, ...</td>\n",
       "    </tr>\n",
       "    <tr>\n",
       "      <th>13</th>\n",
       "      <td>구로구</td>\n",
       "      <td>구로구 역세권</td>\n",
       "      <td>[31500.0, 40000.0, 35350.0, 30000.0, 42000.0, ...</td>\n",
       "    </tr>\n",
       "    <tr>\n",
       "      <th>14</th>\n",
       "      <td>금천구</td>\n",
       "      <td>금천구 비역세권</td>\n",
       "      <td>[39800.0, 42000.0, 43100.0, 40500.0, 43700.0, ...</td>\n",
       "    </tr>\n",
       "    <tr>\n",
       "      <th>15</th>\n",
       "      <td>금천구</td>\n",
       "      <td>금천구 역세권</td>\n",
       "      <td>[64000.0, 61000.0, 60000.0, 58000.0, 66000.0, ...</td>\n",
       "    </tr>\n",
       "    <tr>\n",
       "      <th>16</th>\n",
       "      <td>노원구</td>\n",
       "      <td>노원구 비역세권</td>\n",
       "      <td>[69500.0, 53900.0, 52500.0, 52250.0, 53500.0, ...</td>\n",
       "    </tr>\n",
       "    <tr>\n",
       "      <th>17</th>\n",
       "      <td>노원구</td>\n",
       "      <td>노원구 역세권</td>\n",
       "      <td>[39800.0, 34500.0, 31200.0, 29500.0, 35000.0, ...</td>\n",
       "    </tr>\n",
       "    <tr>\n",
       "      <th>18</th>\n",
       "      <td>도봉구</td>\n",
       "      <td>도봉구 비역세권</td>\n",
       "      <td>[22900.0, 23050.0, 21500.0, 23000.0, 22800.0, ...</td>\n",
       "    </tr>\n",
       "    <tr>\n",
       "      <th>19</th>\n",
       "      <td>도봉구</td>\n",
       "      <td>도봉구 역세권</td>\n",
       "      <td>[51500.0, 39500.0, 49700.0, 55000.0, 50500.0, ...</td>\n",
       "    </tr>\n",
       "    <tr>\n",
       "      <th>20</th>\n",
       "      <td>동대문구</td>\n",
       "      <td>동대문구 비역세권</td>\n",
       "      <td>[47200.0, 51000.0, 49000.0, 54500.0, 50000.0, ...</td>\n",
       "    </tr>\n",
       "    <tr>\n",
       "      <th>21</th>\n",
       "      <td>동대문구</td>\n",
       "      <td>동대문구 역세권</td>\n",
       "      <td>[18400.0, 18000.0, 18300.0, 34500.0, 35000.0, ...</td>\n",
       "    </tr>\n",
       "    <tr>\n",
       "      <th>22</th>\n",
       "      <td>동작구</td>\n",
       "      <td>동작구 비역세권</td>\n",
       "      <td>[54500.0, 55000.0, 45900.0, 44000.0, 55800.0, ...</td>\n",
       "    </tr>\n",
       "    <tr>\n",
       "      <th>23</th>\n",
       "      <td>동작구</td>\n",
       "      <td>동작구 역세권</td>\n",
       "      <td>[63000.0, 55200.0, 62800.0, 60000.0, 65000.0, ...</td>\n",
       "    </tr>\n",
       "    <tr>\n",
       "      <th>24</th>\n",
       "      <td>마포구</td>\n",
       "      <td>마포구 비역세권</td>\n",
       "      <td>[46200.0, 43000.0, 45000.0, 63000.0, 49000.0, ...</td>\n",
       "    </tr>\n",
       "    <tr>\n",
       "      <th>25</th>\n",
       "      <td>마포구</td>\n",
       "      <td>마포구 역세권</td>\n",
       "      <td>[29800.0, 28000.0, 27500.0, 29500.0, 29300.0, ...</td>\n",
       "    </tr>\n",
       "    <tr>\n",
       "      <th>26</th>\n",
       "      <td>서대문구</td>\n",
       "      <td>서대문구 비역세권</td>\n",
       "      <td>[38300.0, 41000.0, 41300.0, 56700.0, 54000.0, ...</td>\n",
       "    </tr>\n",
       "    <tr>\n",
       "      <th>27</th>\n",
       "      <td>서대문구</td>\n",
       "      <td>서대문구 역세권</td>\n",
       "      <td>[74500.0, 74000.0, 72500.0, 66500.0, 55000.0, ...</td>\n",
       "    </tr>\n",
       "    <tr>\n",
       "      <th>28</th>\n",
       "      <td>서초구</td>\n",
       "      <td>서초구 비역세권</td>\n",
       "      <td>[96000.0, 67964.0, 106000.0, 114000.0, 71910.0...</td>\n",
       "    </tr>\n",
       "    <tr>\n",
       "      <th>29</th>\n",
       "      <td>서초구</td>\n",
       "      <td>서초구 역세권</td>\n",
       "      <td>[343000.0, 195000.0, 200000.0, 323000.0, 19700...</td>\n",
       "    </tr>\n",
       "    <tr>\n",
       "      <th>30</th>\n",
       "      <td>성동구</td>\n",
       "      <td>성동구 비역세권</td>\n",
       "      <td>[59000.0, 58000.0, 70000.0, 74800.0, 59700.0, ...</td>\n",
       "    </tr>\n",
       "    <tr>\n",
       "      <th>31</th>\n",
       "      <td>성동구</td>\n",
       "      <td>성동구 역세권</td>\n",
       "      <td>[63000.0, 63600.0, 61800.0, 62300.0, 75000.0, ...</td>\n",
       "    </tr>\n",
       "    <tr>\n",
       "      <th>32</th>\n",
       "      <td>성북구</td>\n",
       "      <td>성북구 비역세권</td>\n",
       "      <td>[46500.0, 54500.0, 45800.0, 47000.0, 52000.0, ...</td>\n",
       "    </tr>\n",
       "    <tr>\n",
       "      <th>33</th>\n",
       "      <td>성북구</td>\n",
       "      <td>성북구 역세권</td>\n",
       "      <td>[52200.0, 54300.0, 63000.0, 54000.0, 67900.0, ...</td>\n",
       "    </tr>\n",
       "    <tr>\n",
       "      <th>34</th>\n",
       "      <td>송파구</td>\n",
       "      <td>송파구 비역세권</td>\n",
       "      <td>[54500.0, 54800.0, 55500.0, 52000.0, 57250.0, ...</td>\n",
       "    </tr>\n",
       "    <tr>\n",
       "      <th>35</th>\n",
       "      <td>송파구</td>\n",
       "      <td>송파구 역세권</td>\n",
       "      <td>[52000.0, 59500.0, 57500.0, 69500.0, 70000.0, ...</td>\n",
       "    </tr>\n",
       "    <tr>\n",
       "      <th>36</th>\n",
       "      <td>양천구</td>\n",
       "      <td>양천구 비역세권</td>\n",
       "      <td>[56500.0, 51900.0, 56000.0, 52500.0, 54000.0, ...</td>\n",
       "    </tr>\n",
       "    <tr>\n",
       "      <th>37</th>\n",
       "      <td>양천구</td>\n",
       "      <td>양천구 역세권</td>\n",
       "      <td>[59000.0, 61000.0, 48800.0, 71000.0, 65000.0, ...</td>\n",
       "    </tr>\n",
       "    <tr>\n",
       "      <th>38</th>\n",
       "      <td>영등포구</td>\n",
       "      <td>영등포구 비역세권</td>\n",
       "      <td>[51000.0, 59500.0, 52000.0, 44000.0, 48200.0, ...</td>\n",
       "    </tr>\n",
       "    <tr>\n",
       "      <th>39</th>\n",
       "      <td>영등포구</td>\n",
       "      <td>영등포구 역세권</td>\n",
       "      <td>[58750.0, 51000.0, 47000.0, 70000.0, 68500.0, ...</td>\n",
       "    </tr>\n",
       "    <tr>\n",
       "      <th>40</th>\n",
       "      <td>용산구</td>\n",
       "      <td>용산구 비역세권</td>\n",
       "      <td>[62500.0, 82000.0, 67000.0, 62800.0, 54000.0, ...</td>\n",
       "    </tr>\n",
       "    <tr>\n",
       "      <th>41</th>\n",
       "      <td>용산구</td>\n",
       "      <td>용산구 역세권</td>\n",
       "      <td>[81700.0, 79800.0, 80000.0, 81800.0, 82000.0, ...</td>\n",
       "    </tr>\n",
       "    <tr>\n",
       "      <th>42</th>\n",
       "      <td>은평구</td>\n",
       "      <td>은평구 비역세권</td>\n",
       "      <td>[39200.0, 41800.0, 52000.0, 42900.0, 42200.0, ...</td>\n",
       "    </tr>\n",
       "    <tr>\n",
       "      <th>43</th>\n",
       "      <td>은평구</td>\n",
       "      <td>은평구 역세권</td>\n",
       "      <td>[30750.0, 36300.0, 47200.0, 34000.0, 33800.0, ...</td>\n",
       "    </tr>\n",
       "    <tr>\n",
       "      <th>44</th>\n",
       "      <td>종로구</td>\n",
       "      <td>종로구 비역세권</td>\n",
       "      <td>[69800.0, 70000.0, 70800.0, 71500.0, 68500.0, ...</td>\n",
       "    </tr>\n",
       "    <tr>\n",
       "      <th>45</th>\n",
       "      <td>종로구</td>\n",
       "      <td>종로구 역세권</td>\n",
       "      <td>[118000.0, 133000.0, 140000.0, 73300.0, 65000....</td>\n",
       "    </tr>\n",
       "    <tr>\n",
       "      <th>46</th>\n",
       "      <td>중구</td>\n",
       "      <td>중구 비역세권</td>\n",
       "      <td>[85000.0, 90000.0, 94000.0, 82300.0, 69000.0, ...</td>\n",
       "    </tr>\n",
       "    <tr>\n",
       "      <th>47</th>\n",
       "      <td>중구</td>\n",
       "      <td>중구 역세권</td>\n",
       "      <td>[76000.0, 82000.0, 73999.0, 75000.0, 78500.0, ...</td>\n",
       "    </tr>\n",
       "    <tr>\n",
       "      <th>48</th>\n",
       "      <td>중랑구</td>\n",
       "      <td>중랑구 비역세권</td>\n",
       "      <td>[28000.0, 28700.0, 34800.0, 34000.0, 33000.0, ...</td>\n",
       "    </tr>\n",
       "    <tr>\n",
       "      <th>49</th>\n",
       "      <td>중랑구</td>\n",
       "      <td>중랑구 역세권</td>\n",
       "      <td>[57000.0, 77200.0, 57800.0, 57900.0, 59700.0, ...</td>\n",
       "    </tr>\n",
       "  </tbody>\n",
       "</table>\n",
       "</div>"
      ],
      "text/plain": [
       "       구        역세권                                             target\n",
       "0    강남구   강남구 비역세권  [124000.0, 123500.0, 91500.0, 130000.0, 117000...\n",
       "1    강남구    강남구 역세권  [152000.0, 182000.0, 170000.0, 185000.0, 17500...\n",
       "2    강동구   강동구 비역세권  [54000.0, 55500.0, 53900.0, 57000.0, 56000.0, ...\n",
       "3    강동구    강동구 역세권  [59500.0, 60000.0, 53800.0, 58000.0, 59000.0, ...\n",
       "4    강북구   강북구 비역세권  [45000.0, 65500.0, 58900.0, 60000.0, 56300.0, ...\n",
       "5    강북구    강북구 역세권  [42500.0, 39000.0, 44200.0, 38600.0, 45200.0, ...\n",
       "6    강서구   강서구 비역세권  [32750.0, 30800.0, 25000.0, 25900.0, 39300.0, ...\n",
       "7    강서구    강서구 역세권  [32300.0, 33900.0, 46500.0, 32000.0, 42300.0, ...\n",
       "8    관악구   관악구 비역세권  [55500.0, 53000.0, 71500.0, 56000.0, 65500.0, ...\n",
       "9    관악구    관악구 역세권  [40800.0, 56000.0, 35400.0, 29800.0, 31200.0, ...\n",
       "10   광진구   광진구 비역세권  [122000.0, 126000.0, 124000.0, 120000.0, 13440...\n",
       "11   광진구    광진구 역세권  [135000.0, 129800.0, 153000.0, 89500.0, 111800...\n",
       "12   구로구   구로구 비역세권  [50500.0, 50200.0, 50000.0, 47000.0, 52500.0, ...\n",
       "13   구로구    구로구 역세권  [31500.0, 40000.0, 35350.0, 30000.0, 42000.0, ...\n",
       "14   금천구   금천구 비역세권  [39800.0, 42000.0, 43100.0, 40500.0, 43700.0, ...\n",
       "15   금천구    금천구 역세권  [64000.0, 61000.0, 60000.0, 58000.0, 66000.0, ...\n",
       "16   노원구   노원구 비역세권  [69500.0, 53900.0, 52500.0, 52250.0, 53500.0, ...\n",
       "17   노원구    노원구 역세권  [39800.0, 34500.0, 31200.0, 29500.0, 35000.0, ...\n",
       "18   도봉구   도봉구 비역세권  [22900.0, 23050.0, 21500.0, 23000.0, 22800.0, ...\n",
       "19   도봉구    도봉구 역세권  [51500.0, 39500.0, 49700.0, 55000.0, 50500.0, ...\n",
       "20  동대문구  동대문구 비역세권  [47200.0, 51000.0, 49000.0, 54500.0, 50000.0, ...\n",
       "21  동대문구   동대문구 역세권  [18400.0, 18000.0, 18300.0, 34500.0, 35000.0, ...\n",
       "22   동작구   동작구 비역세권  [54500.0, 55000.0, 45900.0, 44000.0, 55800.0, ...\n",
       "23   동작구    동작구 역세권  [63000.0, 55200.0, 62800.0, 60000.0, 65000.0, ...\n",
       "24   마포구   마포구 비역세권  [46200.0, 43000.0, 45000.0, 63000.0, 49000.0, ...\n",
       "25   마포구    마포구 역세권  [29800.0, 28000.0, 27500.0, 29500.0, 29300.0, ...\n",
       "26  서대문구  서대문구 비역세권  [38300.0, 41000.0, 41300.0, 56700.0, 54000.0, ...\n",
       "27  서대문구   서대문구 역세권  [74500.0, 74000.0, 72500.0, 66500.0, 55000.0, ...\n",
       "28   서초구   서초구 비역세권  [96000.0, 67964.0, 106000.0, 114000.0, 71910.0...\n",
       "29   서초구    서초구 역세권  [343000.0, 195000.0, 200000.0, 323000.0, 19700...\n",
       "30   성동구   성동구 비역세권  [59000.0, 58000.0, 70000.0, 74800.0, 59700.0, ...\n",
       "31   성동구    성동구 역세권  [63000.0, 63600.0, 61800.0, 62300.0, 75000.0, ...\n",
       "32   성북구   성북구 비역세권  [46500.0, 54500.0, 45800.0, 47000.0, 52000.0, ...\n",
       "33   성북구    성북구 역세권  [52200.0, 54300.0, 63000.0, 54000.0, 67900.0, ...\n",
       "34   송파구   송파구 비역세권  [54500.0, 54800.0, 55500.0, 52000.0, 57250.0, ...\n",
       "35   송파구    송파구 역세권  [52000.0, 59500.0, 57500.0, 69500.0, 70000.0, ...\n",
       "36   양천구   양천구 비역세권  [56500.0, 51900.0, 56000.0, 52500.0, 54000.0, ...\n",
       "37   양천구    양천구 역세권  [59000.0, 61000.0, 48800.0, 71000.0, 65000.0, ...\n",
       "38  영등포구  영등포구 비역세권  [51000.0, 59500.0, 52000.0, 44000.0, 48200.0, ...\n",
       "39  영등포구   영등포구 역세권  [58750.0, 51000.0, 47000.0, 70000.0, 68500.0, ...\n",
       "40   용산구   용산구 비역세권  [62500.0, 82000.0, 67000.0, 62800.0, 54000.0, ...\n",
       "41   용산구    용산구 역세권  [81700.0, 79800.0, 80000.0, 81800.0, 82000.0, ...\n",
       "42   은평구   은평구 비역세권  [39200.0, 41800.0, 52000.0, 42900.0, 42200.0, ...\n",
       "43   은평구    은평구 역세권  [30750.0, 36300.0, 47200.0, 34000.0, 33800.0, ...\n",
       "44   종로구   종로구 비역세권  [69800.0, 70000.0, 70800.0, 71500.0, 68500.0, ...\n",
       "45   종로구    종로구 역세권  [118000.0, 133000.0, 140000.0, 73300.0, 65000....\n",
       "46    중구    중구 비역세권  [85000.0, 90000.0, 94000.0, 82300.0, 69000.0, ...\n",
       "47    중구     중구 역세권  [76000.0, 82000.0, 73999.0, 75000.0, 78500.0, ...\n",
       "48   중랑구   중랑구 비역세권  [28000.0, 28700.0, 34800.0, 34000.0, 33000.0, ...\n",
       "49   중랑구    중랑구 역세권  [57000.0, 77200.0, 57800.0, 57900.0, 59700.0, ..."
      ]
     },
     "execution_count": 105,
     "metadata": {},
     "output_type": "execute_result"
    }
   ],
   "source": [
    "filtered_group"
   ]
  },
  {
   "cell_type": "code",
   "execution_count": 106,
   "metadata": {},
   "outputs": [],
   "source": [
    "## 배열의 평균을 계산하여 새로운 컬럼 추가\n",
    "filtered_group['평균_target'] = filtered_group['target'].apply(lambda x: pd.Series(x).mean())\n",
    "\n",
    "## 평균값을 기준으로 순위 매기기\n",
    "filtered_group['구_역세권_랭크'] = filtered_group['평균_target'].rank(ascending=False)"
   ]
  },
  {
   "cell_type": "code",
   "execution_count": 112,
   "metadata": {},
   "outputs": [
    {
     "data": {
      "text/html": [
       "<div>\n",
       "<style scoped>\n",
       "    .dataframe tbody tr th:only-of-type {\n",
       "        vertical-align: middle;\n",
       "    }\n",
       "\n",
       "    .dataframe tbody tr th {\n",
       "        vertical-align: top;\n",
       "    }\n",
       "\n",
       "    .dataframe thead th {\n",
       "        text-align: right;\n",
       "    }\n",
       "</style>\n",
       "<table border=\"1\" class=\"dataframe\">\n",
       "  <thead>\n",
       "    <tr style=\"text-align: right;\">\n",
       "      <th></th>\n",
       "      <th>구</th>\n",
       "      <th>역세권</th>\n",
       "      <th>target</th>\n",
       "      <th>평균_target</th>\n",
       "      <th>구_역세권_랭크</th>\n",
       "    </tr>\n",
       "  </thead>\n",
       "  <tbody>\n",
       "    <tr>\n",
       "      <th>40</th>\n",
       "      <td>용산구</td>\n",
       "      <td>용산구 비역세권</td>\n",
       "      <td>[62500.0, 82000.0, 67000.0, 62800.0, 54000.0, ...</td>\n",
       "      <td>152757.601347</td>\n",
       "      <td>1.0</td>\n",
       "    </tr>\n",
       "    <tr>\n",
       "      <th>29</th>\n",
       "      <td>서초구</td>\n",
       "      <td>서초구 역세권</td>\n",
       "      <td>[343000.0, 195000.0, 200000.0, 323000.0, 19700...</td>\n",
       "      <td>141118.294639</td>\n",
       "      <td>2.0</td>\n",
       "    </tr>\n",
       "    <tr>\n",
       "      <th>1</th>\n",
       "      <td>강남구</td>\n",
       "      <td>강남구 역세권</td>\n",
       "      <td>[152000.0, 182000.0, 170000.0, 185000.0, 17500...</td>\n",
       "      <td>133830.482510</td>\n",
       "      <td>3.0</td>\n",
       "    </tr>\n",
       "    <tr>\n",
       "      <th>0</th>\n",
       "      <td>강남구</td>\n",
       "      <td>강남구 비역세권</td>\n",
       "      <td>[124000.0, 123500.0, 91500.0, 130000.0, 117000...</td>\n",
       "      <td>126924.633595</td>\n",
       "      <td>4.0</td>\n",
       "    </tr>\n",
       "    <tr>\n",
       "      <th>41</th>\n",
       "      <td>용산구</td>\n",
       "      <td>용산구 역세권</td>\n",
       "      <td>[81700.0, 79800.0, 80000.0, 81800.0, 82000.0, ...</td>\n",
       "      <td>125740.910726</td>\n",
       "      <td>5.0</td>\n",
       "    </tr>\n",
       "    <tr>\n",
       "      <th>28</th>\n",
       "      <td>서초구</td>\n",
       "      <td>서초구 비역세권</td>\n",
       "      <td>[96000.0, 67964.0, 106000.0, 114000.0, 71910.0...</td>\n",
       "      <td>104453.256103</td>\n",
       "      <td>6.0</td>\n",
       "    </tr>\n",
       "    <tr>\n",
       "      <th>34</th>\n",
       "      <td>송파구</td>\n",
       "      <td>송파구 비역세권</td>\n",
       "      <td>[54500.0, 54800.0, 55500.0, 52000.0, 57250.0, ...</td>\n",
       "      <td>98854.395026</td>\n",
       "      <td>7.0</td>\n",
       "    </tr>\n",
       "    <tr>\n",
       "      <th>31</th>\n",
       "      <td>성동구</td>\n",
       "      <td>성동구 역세권</td>\n",
       "      <td>[63000.0, 63600.0, 61800.0, 62300.0, 75000.0, ...</td>\n",
       "      <td>98335.438865</td>\n",
       "      <td>8.0</td>\n",
       "    </tr>\n",
       "    <tr>\n",
       "      <th>35</th>\n",
       "      <td>송파구</td>\n",
       "      <td>송파구 역세권</td>\n",
       "      <td>[52000.0, 59500.0, 57500.0, 69500.0, 70000.0, ...</td>\n",
       "      <td>93288.954079</td>\n",
       "      <td>9.0</td>\n",
       "    </tr>\n",
       "    <tr>\n",
       "      <th>30</th>\n",
       "      <td>성동구</td>\n",
       "      <td>성동구 비역세권</td>\n",
       "      <td>[59000.0, 58000.0, 70000.0, 74800.0, 59700.0, ...</td>\n",
       "      <td>89457.806867</td>\n",
       "      <td>10.0</td>\n",
       "    </tr>\n",
       "    <tr>\n",
       "      <th>25</th>\n",
       "      <td>마포구</td>\n",
       "      <td>마포구 역세권</td>\n",
       "      <td>[29800.0, 28000.0, 27500.0, 29500.0, 29300.0, ...</td>\n",
       "      <td>86322.471368</td>\n",
       "      <td>11.0</td>\n",
       "    </tr>\n",
       "    <tr>\n",
       "      <th>37</th>\n",
       "      <td>양천구</td>\n",
       "      <td>양천구 역세권</td>\n",
       "      <td>[59000.0, 61000.0, 48800.0, 71000.0, 65000.0, ...</td>\n",
       "      <td>81447.645467</td>\n",
       "      <td>12.0</td>\n",
       "    </tr>\n",
       "    <tr>\n",
       "      <th>11</th>\n",
       "      <td>광진구</td>\n",
       "      <td>광진구 역세권</td>\n",
       "      <td>[135000.0, 129800.0, 153000.0, 89500.0, 111800...</td>\n",
       "      <td>77847.943704</td>\n",
       "      <td>13.0</td>\n",
       "    </tr>\n",
       "    <tr>\n",
       "      <th>39</th>\n",
       "      <td>영등포구</td>\n",
       "      <td>영등포구 역세권</td>\n",
       "      <td>[58750.0, 51000.0, 47000.0, 70000.0, 68500.0, ...</td>\n",
       "      <td>75587.744243</td>\n",
       "      <td>14.0</td>\n",
       "    </tr>\n",
       "    <tr>\n",
       "      <th>47</th>\n",
       "      <td>중구</td>\n",
       "      <td>중구 역세권</td>\n",
       "      <td>[76000.0, 82000.0, 73999.0, 75000.0, 78500.0, ...</td>\n",
       "      <td>75457.803959</td>\n",
       "      <td>15.0</td>\n",
       "    </tr>\n",
       "    <tr>\n",
       "      <th>10</th>\n",
       "      <td>광진구</td>\n",
       "      <td>광진구 비역세권</td>\n",
       "      <td>[122000.0, 126000.0, 124000.0, 120000.0, 13440...</td>\n",
       "      <td>75447.490709</td>\n",
       "      <td>16.0</td>\n",
       "    </tr>\n",
       "    <tr>\n",
       "      <th>44</th>\n",
       "      <td>종로구</td>\n",
       "      <td>종로구 비역세권</td>\n",
       "      <td>[69800.0, 70000.0, 70800.0, 71500.0, 68500.0, ...</td>\n",
       "      <td>73315.863743</td>\n",
       "      <td>17.0</td>\n",
       "    </tr>\n",
       "    <tr>\n",
       "      <th>23</th>\n",
       "      <td>동작구</td>\n",
       "      <td>동작구 역세권</td>\n",
       "      <td>[63000.0, 55200.0, 62800.0, 60000.0, 65000.0, ...</td>\n",
       "      <td>72064.476888</td>\n",
       "      <td>18.0</td>\n",
       "    </tr>\n",
       "    <tr>\n",
       "      <th>36</th>\n",
       "      <td>양천구</td>\n",
       "      <td>양천구 비역세권</td>\n",
       "      <td>[56500.0, 51900.0, 56000.0, 52500.0, 54000.0, ...</td>\n",
       "      <td>70202.570608</td>\n",
       "      <td>19.0</td>\n",
       "    </tr>\n",
       "    <tr>\n",
       "      <th>22</th>\n",
       "      <td>동작구</td>\n",
       "      <td>동작구 비역세권</td>\n",
       "      <td>[54500.0, 55000.0, 45900.0, 44000.0, 55800.0, ...</td>\n",
       "      <td>67634.297212</td>\n",
       "      <td>20.0</td>\n",
       "    </tr>\n",
       "    <tr>\n",
       "      <th>38</th>\n",
       "      <td>영등포구</td>\n",
       "      <td>영등포구 비역세권</td>\n",
       "      <td>[51000.0, 59500.0, 52000.0, 44000.0, 48200.0, ...</td>\n",
       "      <td>66900.274648</td>\n",
       "      <td>21.0</td>\n",
       "    </tr>\n",
       "    <tr>\n",
       "      <th>46</th>\n",
       "      <td>중구</td>\n",
       "      <td>중구 비역세권</td>\n",
       "      <td>[85000.0, 90000.0, 94000.0, 82300.0, 69000.0, ...</td>\n",
       "      <td>64176.967914</td>\n",
       "      <td>22.0</td>\n",
       "    </tr>\n",
       "    <tr>\n",
       "      <th>24</th>\n",
       "      <td>마포구</td>\n",
       "      <td>마포구 비역세권</td>\n",
       "      <td>[46200.0, 43000.0, 45000.0, 63000.0, 49000.0, ...</td>\n",
       "      <td>64140.370980</td>\n",
       "      <td>23.0</td>\n",
       "    </tr>\n",
       "    <tr>\n",
       "      <th>3</th>\n",
       "      <td>강동구</td>\n",
       "      <td>강동구 역세권</td>\n",
       "      <td>[59500.0, 60000.0, 53800.0, 58000.0, 59000.0, ...</td>\n",
       "      <td>61540.991833</td>\n",
       "      <td>24.0</td>\n",
       "    </tr>\n",
       "    <tr>\n",
       "      <th>27</th>\n",
       "      <td>서대문구</td>\n",
       "      <td>서대문구 역세권</td>\n",
       "      <td>[74500.0, 74000.0, 72500.0, 66500.0, 55000.0, ...</td>\n",
       "      <td>59796.335821</td>\n",
       "      <td>25.0</td>\n",
       "    </tr>\n",
       "    <tr>\n",
       "      <th>26</th>\n",
       "      <td>서대문구</td>\n",
       "      <td>서대문구 비역세권</td>\n",
       "      <td>[38300.0, 41000.0, 41300.0, 56700.0, 54000.0, ...</td>\n",
       "      <td>58515.312842</td>\n",
       "      <td>26.0</td>\n",
       "    </tr>\n",
       "    <tr>\n",
       "      <th>45</th>\n",
       "      <td>종로구</td>\n",
       "      <td>종로구 역세권</td>\n",
       "      <td>[118000.0, 133000.0, 140000.0, 73300.0, 65000....</td>\n",
       "      <td>58118.485149</td>\n",
       "      <td>27.0</td>\n",
       "    </tr>\n",
       "    <tr>\n",
       "      <th>2</th>\n",
       "      <td>강동구</td>\n",
       "      <td>강동구 비역세권</td>\n",
       "      <td>[54000.0, 55500.0, 53900.0, 57000.0, 56000.0, ...</td>\n",
       "      <td>57603.228036</td>\n",
       "      <td>28.0</td>\n",
       "    </tr>\n",
       "    <tr>\n",
       "      <th>7</th>\n",
       "      <td>강서구</td>\n",
       "      <td>강서구 역세권</td>\n",
       "      <td>[32300.0, 33900.0, 46500.0, 32000.0, 42300.0, ...</td>\n",
       "      <td>56299.497450</td>\n",
       "      <td>29.0</td>\n",
       "    </tr>\n",
       "    <tr>\n",
       "      <th>32</th>\n",
       "      <td>성북구</td>\n",
       "      <td>성북구 비역세권</td>\n",
       "      <td>[46500.0, 54500.0, 45800.0, 47000.0, 52000.0, ...</td>\n",
       "      <td>53522.287462</td>\n",
       "      <td>30.0</td>\n",
       "    </tr>\n",
       "    <tr>\n",
       "      <th>21</th>\n",
       "      <td>동대문구</td>\n",
       "      <td>동대문구 역세권</td>\n",
       "      <td>[18400.0, 18000.0, 18300.0, 34500.0, 35000.0, ...</td>\n",
       "      <td>53295.734995</td>\n",
       "      <td>31.0</td>\n",
       "    </tr>\n",
       "    <tr>\n",
       "      <th>33</th>\n",
       "      <td>성북구</td>\n",
       "      <td>성북구 역세권</td>\n",
       "      <td>[52200.0, 54300.0, 63000.0, 54000.0, 67900.0, ...</td>\n",
       "      <td>52626.587149</td>\n",
       "      <td>32.0</td>\n",
       "    </tr>\n",
       "    <tr>\n",
       "      <th>42</th>\n",
       "      <td>은평구</td>\n",
       "      <td>은평구 비역세권</td>\n",
       "      <td>[39200.0, 41800.0, 52000.0, 42900.0, 42200.0, ...</td>\n",
       "      <td>52370.026602</td>\n",
       "      <td>33.0</td>\n",
       "    </tr>\n",
       "    <tr>\n",
       "      <th>20</th>\n",
       "      <td>동대문구</td>\n",
       "      <td>동대문구 비역세권</td>\n",
       "      <td>[47200.0, 51000.0, 49000.0, 54500.0, 50000.0, ...</td>\n",
       "      <td>52307.583282</td>\n",
       "      <td>34.0</td>\n",
       "    </tr>\n",
       "    <tr>\n",
       "      <th>13</th>\n",
       "      <td>구로구</td>\n",
       "      <td>구로구 역세권</td>\n",
       "      <td>[31500.0, 40000.0, 35350.0, 30000.0, 42000.0, ...</td>\n",
       "      <td>51067.175029</td>\n",
       "      <td>35.0</td>\n",
       "    </tr>\n",
       "    <tr>\n",
       "      <th>6</th>\n",
       "      <td>강서구</td>\n",
       "      <td>강서구 비역세권</td>\n",
       "      <td>[32750.0, 30800.0, 25000.0, 25900.0, 39300.0, ...</td>\n",
       "      <td>50338.134485</td>\n",
       "      <td>36.0</td>\n",
       "    </tr>\n",
       "    <tr>\n",
       "      <th>8</th>\n",
       "      <td>관악구</td>\n",
       "      <td>관악구 비역세권</td>\n",
       "      <td>[55500.0, 53000.0, 71500.0, 56000.0, 65500.0, ...</td>\n",
       "      <td>49984.599573</td>\n",
       "      <td>37.0</td>\n",
       "    </tr>\n",
       "    <tr>\n",
       "      <th>43</th>\n",
       "      <td>은평구</td>\n",
       "      <td>은평구 역세권</td>\n",
       "      <td>[30750.0, 36300.0, 47200.0, 34000.0, 33800.0, ...</td>\n",
       "      <td>48237.441355</td>\n",
       "      <td>38.0</td>\n",
       "    </tr>\n",
       "    <tr>\n",
       "      <th>16</th>\n",
       "      <td>노원구</td>\n",
       "      <td>노원구 비역세권</td>\n",
       "      <td>[69500.0, 53900.0, 52500.0, 52250.0, 53500.0, ...</td>\n",
       "      <td>47107.162765</td>\n",
       "      <td>39.0</td>\n",
       "    </tr>\n",
       "    <tr>\n",
       "      <th>49</th>\n",
       "      <td>중랑구</td>\n",
       "      <td>중랑구 역세권</td>\n",
       "      <td>[57000.0, 77200.0, 57800.0, 57900.0, 59700.0, ...</td>\n",
       "      <td>46853.847841</td>\n",
       "      <td>40.0</td>\n",
       "    </tr>\n",
       "    <tr>\n",
       "      <th>15</th>\n",
       "      <td>금천구</td>\n",
       "      <td>금천구 역세권</td>\n",
       "      <td>[64000.0, 61000.0, 60000.0, 58000.0, 66000.0, ...</td>\n",
       "      <td>46339.255319</td>\n",
       "      <td>41.0</td>\n",
       "    </tr>\n",
       "    <tr>\n",
       "      <th>12</th>\n",
       "      <td>구로구</td>\n",
       "      <td>구로구 비역세권</td>\n",
       "      <td>[50500.0, 50200.0, 50000.0, 47000.0, 52500.0, ...</td>\n",
       "      <td>45157.665372</td>\n",
       "      <td>42.0</td>\n",
       "    </tr>\n",
       "    <tr>\n",
       "      <th>5</th>\n",
       "      <td>강북구</td>\n",
       "      <td>강북구 역세권</td>\n",
       "      <td>[42500.0, 39000.0, 44200.0, 38600.0, 45200.0, ...</td>\n",
       "      <td>44812.675360</td>\n",
       "      <td>43.0</td>\n",
       "    </tr>\n",
       "    <tr>\n",
       "      <th>4</th>\n",
       "      <td>강북구</td>\n",
       "      <td>강북구 비역세권</td>\n",
       "      <td>[45000.0, 65500.0, 58900.0, 60000.0, 56300.0, ...</td>\n",
       "      <td>44464.757390</td>\n",
       "      <td>44.0</td>\n",
       "    </tr>\n",
       "    <tr>\n",
       "      <th>9</th>\n",
       "      <td>관악구</td>\n",
       "      <td>관악구 역세권</td>\n",
       "      <td>[40800.0, 56000.0, 35400.0, 29800.0, 31200.0, ...</td>\n",
       "      <td>44290.175862</td>\n",
       "      <td>45.0</td>\n",
       "    </tr>\n",
       "    <tr>\n",
       "      <th>19</th>\n",
       "      <td>도봉구</td>\n",
       "      <td>도봉구 역세권</td>\n",
       "      <td>[51500.0, 39500.0, 49700.0, 55000.0, 50500.0, ...</td>\n",
       "      <td>41030.773251</td>\n",
       "      <td>46.0</td>\n",
       "    </tr>\n",
       "    <tr>\n",
       "      <th>17</th>\n",
       "      <td>노원구</td>\n",
       "      <td>노원구 역세권</td>\n",
       "      <td>[39800.0, 34500.0, 31200.0, 29500.0, 35000.0, ...</td>\n",
       "      <td>39822.270192</td>\n",
       "      <td>47.0</td>\n",
       "    </tr>\n",
       "    <tr>\n",
       "      <th>48</th>\n",
       "      <td>중랑구</td>\n",
       "      <td>중랑구 비역세권</td>\n",
       "      <td>[28000.0, 28700.0, 34800.0, 34000.0, 33000.0, ...</td>\n",
       "      <td>39642.878566</td>\n",
       "      <td>48.0</td>\n",
       "    </tr>\n",
       "    <tr>\n",
       "      <th>18</th>\n",
       "      <td>도봉구</td>\n",
       "      <td>도봉구 비역세권</td>\n",
       "      <td>[22900.0, 23050.0, 21500.0, 23000.0, 22800.0, ...</td>\n",
       "      <td>39442.882657</td>\n",
       "      <td>49.0</td>\n",
       "    </tr>\n",
       "    <tr>\n",
       "      <th>14</th>\n",
       "      <td>금천구</td>\n",
       "      <td>금천구 비역세권</td>\n",
       "      <td>[39800.0, 42000.0, 43100.0, 40500.0, 43700.0, ...</td>\n",
       "      <td>39217.389883</td>\n",
       "      <td>50.0</td>\n",
       "    </tr>\n",
       "  </tbody>\n",
       "</table>\n",
       "</div>"
      ],
      "text/plain": [
       "       구        역세권                                             target  \\\n",
       "40   용산구   용산구 비역세권  [62500.0, 82000.0, 67000.0, 62800.0, 54000.0, ...   \n",
       "29   서초구    서초구 역세권  [343000.0, 195000.0, 200000.0, 323000.0, 19700...   \n",
       "1    강남구    강남구 역세권  [152000.0, 182000.0, 170000.0, 185000.0, 17500...   \n",
       "0    강남구   강남구 비역세권  [124000.0, 123500.0, 91500.0, 130000.0, 117000...   \n",
       "41   용산구    용산구 역세권  [81700.0, 79800.0, 80000.0, 81800.0, 82000.0, ...   \n",
       "28   서초구   서초구 비역세권  [96000.0, 67964.0, 106000.0, 114000.0, 71910.0...   \n",
       "34   송파구   송파구 비역세권  [54500.0, 54800.0, 55500.0, 52000.0, 57250.0, ...   \n",
       "31   성동구    성동구 역세권  [63000.0, 63600.0, 61800.0, 62300.0, 75000.0, ...   \n",
       "35   송파구    송파구 역세권  [52000.0, 59500.0, 57500.0, 69500.0, 70000.0, ...   \n",
       "30   성동구   성동구 비역세권  [59000.0, 58000.0, 70000.0, 74800.0, 59700.0, ...   \n",
       "25   마포구    마포구 역세권  [29800.0, 28000.0, 27500.0, 29500.0, 29300.0, ...   \n",
       "37   양천구    양천구 역세권  [59000.0, 61000.0, 48800.0, 71000.0, 65000.0, ...   \n",
       "11   광진구    광진구 역세권  [135000.0, 129800.0, 153000.0, 89500.0, 111800...   \n",
       "39  영등포구   영등포구 역세권  [58750.0, 51000.0, 47000.0, 70000.0, 68500.0, ...   \n",
       "47    중구     중구 역세권  [76000.0, 82000.0, 73999.0, 75000.0, 78500.0, ...   \n",
       "10   광진구   광진구 비역세권  [122000.0, 126000.0, 124000.0, 120000.0, 13440...   \n",
       "44   종로구   종로구 비역세권  [69800.0, 70000.0, 70800.0, 71500.0, 68500.0, ...   \n",
       "23   동작구    동작구 역세권  [63000.0, 55200.0, 62800.0, 60000.0, 65000.0, ...   \n",
       "36   양천구   양천구 비역세권  [56500.0, 51900.0, 56000.0, 52500.0, 54000.0, ...   \n",
       "22   동작구   동작구 비역세권  [54500.0, 55000.0, 45900.0, 44000.0, 55800.0, ...   \n",
       "38  영등포구  영등포구 비역세권  [51000.0, 59500.0, 52000.0, 44000.0, 48200.0, ...   \n",
       "46    중구    중구 비역세권  [85000.0, 90000.0, 94000.0, 82300.0, 69000.0, ...   \n",
       "24   마포구   마포구 비역세권  [46200.0, 43000.0, 45000.0, 63000.0, 49000.0, ...   \n",
       "3    강동구    강동구 역세권  [59500.0, 60000.0, 53800.0, 58000.0, 59000.0, ...   \n",
       "27  서대문구   서대문구 역세권  [74500.0, 74000.0, 72500.0, 66500.0, 55000.0, ...   \n",
       "26  서대문구  서대문구 비역세권  [38300.0, 41000.0, 41300.0, 56700.0, 54000.0, ...   \n",
       "45   종로구    종로구 역세권  [118000.0, 133000.0, 140000.0, 73300.0, 65000....   \n",
       "2    강동구   강동구 비역세권  [54000.0, 55500.0, 53900.0, 57000.0, 56000.0, ...   \n",
       "7    강서구    강서구 역세권  [32300.0, 33900.0, 46500.0, 32000.0, 42300.0, ...   \n",
       "32   성북구   성북구 비역세권  [46500.0, 54500.0, 45800.0, 47000.0, 52000.0, ...   \n",
       "21  동대문구   동대문구 역세권  [18400.0, 18000.0, 18300.0, 34500.0, 35000.0, ...   \n",
       "33   성북구    성북구 역세권  [52200.0, 54300.0, 63000.0, 54000.0, 67900.0, ...   \n",
       "42   은평구   은평구 비역세권  [39200.0, 41800.0, 52000.0, 42900.0, 42200.0, ...   \n",
       "20  동대문구  동대문구 비역세권  [47200.0, 51000.0, 49000.0, 54500.0, 50000.0, ...   \n",
       "13   구로구    구로구 역세권  [31500.0, 40000.0, 35350.0, 30000.0, 42000.0, ...   \n",
       "6    강서구   강서구 비역세권  [32750.0, 30800.0, 25000.0, 25900.0, 39300.0, ...   \n",
       "8    관악구   관악구 비역세권  [55500.0, 53000.0, 71500.0, 56000.0, 65500.0, ...   \n",
       "43   은평구    은평구 역세권  [30750.0, 36300.0, 47200.0, 34000.0, 33800.0, ...   \n",
       "16   노원구   노원구 비역세권  [69500.0, 53900.0, 52500.0, 52250.0, 53500.0, ...   \n",
       "49   중랑구    중랑구 역세권  [57000.0, 77200.0, 57800.0, 57900.0, 59700.0, ...   \n",
       "15   금천구    금천구 역세권  [64000.0, 61000.0, 60000.0, 58000.0, 66000.0, ...   \n",
       "12   구로구   구로구 비역세권  [50500.0, 50200.0, 50000.0, 47000.0, 52500.0, ...   \n",
       "5    강북구    강북구 역세권  [42500.0, 39000.0, 44200.0, 38600.0, 45200.0, ...   \n",
       "4    강북구   강북구 비역세권  [45000.0, 65500.0, 58900.0, 60000.0, 56300.0, ...   \n",
       "9    관악구    관악구 역세권  [40800.0, 56000.0, 35400.0, 29800.0, 31200.0, ...   \n",
       "19   도봉구    도봉구 역세권  [51500.0, 39500.0, 49700.0, 55000.0, 50500.0, ...   \n",
       "17   노원구    노원구 역세권  [39800.0, 34500.0, 31200.0, 29500.0, 35000.0, ...   \n",
       "48   중랑구   중랑구 비역세권  [28000.0, 28700.0, 34800.0, 34000.0, 33000.0, ...   \n",
       "18   도봉구   도봉구 비역세권  [22900.0, 23050.0, 21500.0, 23000.0, 22800.0, ...   \n",
       "14   금천구   금천구 비역세권  [39800.0, 42000.0, 43100.0, 40500.0, 43700.0, ...   \n",
       "\n",
       "        평균_target  구_역세권_랭크  \n",
       "40  152757.601347       1.0  \n",
       "29  141118.294639       2.0  \n",
       "1   133830.482510       3.0  \n",
       "0   126924.633595       4.0  \n",
       "41  125740.910726       5.0  \n",
       "28  104453.256103       6.0  \n",
       "34   98854.395026       7.0  \n",
       "31   98335.438865       8.0  \n",
       "35   93288.954079       9.0  \n",
       "30   89457.806867      10.0  \n",
       "25   86322.471368      11.0  \n",
       "37   81447.645467      12.0  \n",
       "11   77847.943704      13.0  \n",
       "39   75587.744243      14.0  \n",
       "47   75457.803959      15.0  \n",
       "10   75447.490709      16.0  \n",
       "44   73315.863743      17.0  \n",
       "23   72064.476888      18.0  \n",
       "36   70202.570608      19.0  \n",
       "22   67634.297212      20.0  \n",
       "38   66900.274648      21.0  \n",
       "46   64176.967914      22.0  \n",
       "24   64140.370980      23.0  \n",
       "3    61540.991833      24.0  \n",
       "27   59796.335821      25.0  \n",
       "26   58515.312842      26.0  \n",
       "45   58118.485149      27.0  \n",
       "2    57603.228036      28.0  \n",
       "7    56299.497450      29.0  \n",
       "32   53522.287462      30.0  \n",
       "21   53295.734995      31.0  \n",
       "33   52626.587149      32.0  \n",
       "42   52370.026602      33.0  \n",
       "20   52307.583282      34.0  \n",
       "13   51067.175029      35.0  \n",
       "6    50338.134485      36.0  \n",
       "8    49984.599573      37.0  \n",
       "43   48237.441355      38.0  \n",
       "16   47107.162765      39.0  \n",
       "49   46853.847841      40.0  \n",
       "15   46339.255319      41.0  \n",
       "12   45157.665372      42.0  \n",
       "5    44812.675360      43.0  \n",
       "4    44464.757390      44.0  \n",
       "9    44290.175862      45.0  \n",
       "19   41030.773251      46.0  \n",
       "17   39822.270192      47.0  \n",
       "48   39642.878566      48.0  \n",
       "18   39442.882657      49.0  \n",
       "14   39217.389883      50.0  "
      ]
     },
     "execution_count": 112,
     "metadata": {},
     "output_type": "execute_result"
    }
   ],
   "source": [
    "filtered_group.sort_values(by='구_역세권_랭크')"
   ]
  },
  {
   "cell_type": "code",
   "execution_count": 113,
   "metadata": {},
   "outputs": [
    {
     "data": {
      "text/plain": [
       "구            0\n",
       "역세권          0\n",
       "target       0\n",
       "평균_target    0\n",
       "구_역세권_랭크     0\n",
       "dtype: int64"
      ]
     },
     "execution_count": 113,
     "metadata": {},
     "output_type": "execute_result"
    }
   ],
   "source": [
    "filtered_group.isna().sum()"
   ]
  },
  {
   "cell_type": "code",
   "execution_count": 114,
   "metadata": {},
   "outputs": [
    {
     "data": {
      "text/plain": [
       "50"
      ]
     },
     "execution_count": 114,
     "metadata": {},
     "output_type": "execute_result"
    }
   ],
   "source": [
    "len(filtered_group['구_역세권_랭크'].unique())"
   ]
  },
  {
   "cell_type": "code",
   "execution_count": 115,
   "metadata": {},
   "outputs": [
    {
     "data": {
      "text/plain": [
       "Index(['시군구', '번지', '도로명', '아파트명', 'is_test', 'target', '구', '동', '좌표X', '좌표Y',\n",
       "       '역세권'],\n",
       "      dtype='object')"
      ]
     },
     "execution_count": 115,
     "metadata": {},
     "output_type": "execute_result"
    }
   ],
   "source": [
    "df_merged.columns"
   ]
  },
  {
   "cell_type": "code",
   "execution_count": 116,
   "metadata": {},
   "outputs": [
    {
     "data": {
      "text/plain": [
       "Index(['구', '역세권', 'target', '평균_target', '구_역세권_랭크'], dtype='object')"
      ]
     },
     "execution_count": 116,
     "metadata": {},
     "output_type": "execute_result"
    }
   ],
   "source": [
    "filtered_group.columns"
   ]
  },
  {
   "cell_type": "code",
   "execution_count": 117,
   "metadata": {},
   "outputs": [],
   "source": [
    "del filtered_group['target']\n",
    "del filtered_group['평균_target']"
   ]
  },
  {
   "cell_type": "code",
   "execution_count": 174,
   "metadata": {},
   "outputs": [],
   "source": [
    "df_merged_rank = pd.merge(df_merged, filtered_group, on=['구', '역세권'], how='left')"
   ]
  },
  {
   "cell_type": "code",
   "execution_count": 175,
   "metadata": {},
   "outputs": [
    {
     "name": "stdout",
     "output_type": "stream",
     "text": [
      "<class 'pandas.core.frame.DataFrame'>\n",
      "Int64Index: 1128094 entries, 0 to 1128093\n",
      "Data columns (total 12 columns):\n",
      " #   Column    Non-Null Count    Dtype  \n",
      "---  ------    --------------    -----  \n",
      " 0   시군구       1128094 non-null  object \n",
      " 1   번지        1128094 non-null  object \n",
      " 2   도로명       1128094 non-null  object \n",
      " 3   아파트명      1128094 non-null  object \n",
      " 4   is_test   1128094 non-null  int64  \n",
      " 5   target    1118822 non-null  float64\n",
      " 6   구         1128094 non-null  object \n",
      " 7   동         1128094 non-null  object \n",
      " 8   좌표X       1128094 non-null  float64\n",
      " 9   좌표Y       1128094 non-null  float64\n",
      " 10  역세권       1128094 non-null  object \n",
      " 11  구_역세권_랭크  1128094 non-null  float64\n",
      "dtypes: float64(4), int64(1), object(7)\n",
      "memory usage: 111.9+ MB\n"
     ]
    }
   ],
   "source": [
    "df_merged_rank.info()"
   ]
  },
  {
   "cell_type": "code",
   "execution_count": 176,
   "metadata": {},
   "outputs": [
    {
     "data": {
      "text/plain": [
       "시군구            0\n",
       "번지             0\n",
       "도로명            0\n",
       "아파트명           0\n",
       "is_test        0\n",
       "target      9272\n",
       "구              0\n",
       "동              0\n",
       "좌표X            0\n",
       "좌표Y            0\n",
       "역세권            0\n",
       "구_역세권_랭크       0\n",
       "dtype: int64"
      ]
     },
     "execution_count": 176,
     "metadata": {},
     "output_type": "execute_result"
    }
   ],
   "source": [
    "df_merged_rank.isna().sum()"
   ]
  },
  {
   "cell_type": "code",
   "execution_count": 177,
   "metadata": {},
   "outputs": [],
   "source": [
    "## '역세권'에 '구'의 데이터가 포함되어 있어 다중공산성이 매우 높은 문제를 해결하기 위해 행정구명 제거\n",
    "df_merged_rank['역세권'] = df_merged_rank['역세권'].apply(lambda x: x.split(' ')[1])"
   ]
  },
  {
   "cell_type": "code",
   "execution_count": 179,
   "metadata": {},
   "outputs": [],
   "source": [
    "df_merged_rank.loc[df_merged_rank['target'].isna(), 'target'] = 0"
   ]
  },
  {
   "cell_type": "code",
   "execution_count": 180,
   "metadata": {},
   "outputs": [],
   "source": [
    "df_merged_rank['주소'] = df_merged_rank['동'] + ' ' + df_merged_rank['번지']"
   ]
  },
  {
   "cell_type": "code",
   "execution_count": 181,
   "metadata": {},
   "outputs": [
    {
     "data": {
      "text/plain": [
       "시군구         0\n",
       "번지          0\n",
       "도로명         0\n",
       "아파트명        0\n",
       "is_test     0\n",
       "target      0\n",
       "구           0\n",
       "동           0\n",
       "좌표X         0\n",
       "좌표Y         0\n",
       "역세권         0\n",
       "구_역세권_랭크    0\n",
       "주소          0\n",
       "dtype: int64"
      ]
     },
     "execution_count": 181,
     "metadata": {},
     "output_type": "execute_result"
    }
   ],
   "source": [
    "df_merged_rank.isna().sum()"
   ]
  },
  {
   "cell_type": "code",
   "execution_count": 165,
   "metadata": {},
   "outputs": [
    {
     "name": "stdout",
     "output_type": "stream",
     "text": [
      "(1118822, 13) (9272, 13)\n"
     ]
    }
   ],
   "source": [
    "## 위에서 제작해 놓았던 is_test 칼럼을 이용해 데이터셋 수에 변화가 생기진 않았는지 점검\n",
    "train_set = df_merged_rank.query('is_test==0')\n",
    "test_set = df_merged_rank.query('is_test==1')\n",
    "print(train_set.shape, test_set.shape)"
   ]
  },
  {
   "cell_type": "markdown",
   "metadata": {},
   "source": [
    "⏸ '이전_N번째_거래가격'이 추가된 데이터프레임을 불러와 마저 작업"
   ]
  },
  {
   "cell_type": "code",
   "execution_count": 142,
   "metadata": {},
   "outputs": [],
   "source": [
    "## csv 읽을 때 타입 변환 방지\n",
    "dict_dtype = {\n",
    "    \"본번\" : str,\n",
    "    \"부번\" : str,\n",
    "    \"아파트명\" : str,\n",
    "    \"계약년\" : str,\n",
    "    \"계약월\" : str,\n",
    "    \"계약일\" : str\n",
    "}"
   ]
  },
  {
   "cell_type": "code",
   "execution_count": 143,
   "metadata": {},
   "outputs": [],
   "source": [
    "df_final = pd.read_csv(PATH_RECENT, keep_default_na=False, dtype=dict_dtype)"
   ]
  },
  {
   "cell_type": "code",
   "execution_count": 144,
   "metadata": {},
   "outputs": [
    {
     "name": "stdout",
     "output_type": "stream",
     "text": [
      "<class 'pandas.core.frame.DataFrame'>\n",
      "RangeIndex: 1128094 entries, 0 to 1128093\n",
      "Data columns (total 29 columns):\n",
      " #   Column        Non-Null Count    Dtype  \n",
      "---  ------        --------------    -----  \n",
      " 0   번지            1128094 non-null  object \n",
      " 1   본번            1128094 non-null  object \n",
      " 2   부번            1128094 non-null  object \n",
      " 3   아파트명          1128094 non-null  object \n",
      " 4   전용면적(㎡)       1128094 non-null  float64\n",
      " 5   계약년월          1128094 non-null  int64  \n",
      " 6   계약일           1128094 non-null  object \n",
      " 7   층             1128094 non-null  int64  \n",
      " 8   건축년도          1128094 non-null  int64  \n",
      " 9   도로명           1128094 non-null  object \n",
      " 10  거래유형          1128094 non-null  object \n",
      " 11  중개사소재지        1128094 non-null  object \n",
      " 12  target        1128094 non-null  float64\n",
      " 13  is_test       1128094 non-null  int64  \n",
      " 14  구             1128094 non-null  object \n",
      " 15  동             1128094 non-null  object \n",
      " 16  계약년           1128094 non-null  object \n",
      " 17  계약월           1128094 non-null  object \n",
      " 18  주소            1128094 non-null  object \n",
      " 19  이전_1번째_거래가격   1128094 non-null  float64\n",
      " 20  이전_2번째_거래가격   1128094 non-null  float64\n",
      " 21  이전_3번째_거래가격   1128094 non-null  float64\n",
      " 22  이전_4번째_거래가격   1128094 non-null  float64\n",
      " 23  이전_5번째_거래가격   1128094 non-null  float64\n",
      " 24  이전_6번째_거래가격   1128094 non-null  float64\n",
      " 25  이전_7번째_거래가격   1128094 non-null  float64\n",
      " 26  이전_8번째_거래가격   1128094 non-null  float64\n",
      " 27  이전_9번째_거래가격   1128094 non-null  float64\n",
      " 28  이전_10번째_거래가격  1128094 non-null  float64\n",
      "dtypes: float64(12), int64(4), object(13)\n",
      "memory usage: 249.6+ MB\n"
     ]
    }
   ],
   "source": [
    "df_final.info()"
   ]
  },
  {
   "cell_type": "code",
   "execution_count": 183,
   "metadata": {},
   "outputs": [],
   "source": [
    "df_merged_rank = df_merged_rank[['is_test', '주소', '역세권', '구_역세권_랭크']]"
   ]
  },
  {
   "cell_type": "code",
   "execution_count": 184,
   "metadata": {},
   "outputs": [
    {
     "data": {
      "text/plain": [
       "['주소', 'is_test']"
      ]
     },
     "execution_count": 184,
     "metadata": {},
     "output_type": "execute_result"
    }
   ],
   "source": [
    "overlapped = list(set(df_final.columns) & set(df_merged_rank.columns))\n",
    "overlapped"
   ]
  },
  {
   "cell_type": "code",
   "execution_count": 186,
   "metadata": {},
   "outputs": [],
   "source": [
    "df_merged_rank.drop_duplicates(inplace=True)"
   ]
  },
  {
   "cell_type": "code",
   "execution_count": 187,
   "metadata": {},
   "outputs": [
    {
     "name": "stdout",
     "output_type": "stream",
     "text": [
      "<class 'pandas.core.frame.DataFrame'>\n",
      "Int64Index: 11531 entries, 0 to 1128089\n",
      "Data columns (total 4 columns):\n",
      " #   Column    Non-Null Count  Dtype  \n",
      "---  ------    --------------  -----  \n",
      " 0   is_test   11531 non-null  int64  \n",
      " 1   주소        11531 non-null  object \n",
      " 2   역세권       11531 non-null  object \n",
      " 3   구_역세권_랭크  11531 non-null  float64\n",
      "dtypes: float64(1), int64(1), object(2)\n",
      "memory usage: 450.4+ KB\n"
     ]
    }
   ],
   "source": [
    "df_merged_rank.info()"
   ]
  },
  {
   "cell_type": "code",
   "execution_count": 188,
   "metadata": {},
   "outputs": [],
   "source": [
    "df_final_merged = pd.merge(df_final, df_merged_rank, on=overlapped, how='left')"
   ]
  },
  {
   "cell_type": "code",
   "execution_count": 189,
   "metadata": {},
   "outputs": [
    {
     "name": "stdout",
     "output_type": "stream",
     "text": [
      "(1118822, 31) (9272, 31)\n"
     ]
    }
   ],
   "source": [
    "## 위에서 제작해 놓았던 is_test 칼럼을 이용해 데이터셋 수에 변화가 생기진 않았는지 점검\n",
    "train_set = df_final_merged.query('is_test==0')\n",
    "test_set = df_final_merged.query('is_test==1')\n",
    "print(train_set.shape, test_set.shape)"
   ]
  },
  {
   "cell_type": "markdown",
   "metadata": {},
   "source": [
    "## 모델링"
   ]
  },
  {
   "cell_type": "code",
   "execution_count": 200,
   "metadata": {},
   "outputs": [],
   "source": [
    "# Model\n",
    "from catboost import CatBoostRegressor, Pool\n",
    "\n",
    "from sklearn.model_selection import KFold\n",
    "\n",
    "from sklearn.preprocessing import LabelEncoder\n",
    "from sklearn.model_selection import train_test_split\n",
    "from sklearn.metrics import mean_squared_error"
   ]
  },
  {
   "cell_type": "code",
   "execution_count": 193,
   "metadata": {},
   "outputs": [],
   "source": [
    "columns_to_drop = ['계약년', '번지', '주소']"
   ]
  },
  {
   "cell_type": "code",
   "execution_count": 194,
   "metadata": {},
   "outputs": [],
   "source": [
    "df_final_merged.drop(columns=columns_to_drop, inplace=True)"
   ]
  },
  {
   "cell_type": "code",
   "execution_count": 201,
   "metadata": {},
   "outputs": [
    {
     "name": "stdout",
     "output_type": "stream",
     "text": [
      "(1118822, 27) (9272, 27)\n"
     ]
    }
   ],
   "source": [
    "# 이제 다시 train과 test dataset을 분할해줍니다. 위에서 제작해 놓았던 is_test 칼럼을 이용합니다.\n",
    "dt_train = df_final_merged.query('is_test==0')\n",
    "dt_test = df_final_merged.query('is_test==1')\n",
    "\n",
    "# 이제 is_test 칼럼은 drop해줍니다.\n",
    "dt_train.drop(['is_test'], axis = 1, inplace=True)\n",
    "dt_test.drop(['is_test'], axis = 1, inplace=True)\n",
    "print(dt_train.shape, dt_test.shape)"
   ]
  },
  {
   "cell_type": "code",
   "execution_count": 202,
   "metadata": {},
   "outputs": [
    {
     "name": "stdout",
     "output_type": "stream",
     "text": [
      "연속형 변수: ['전용면적(㎡)', '계약년월', '층', '건축년도', 'target', '이전_1번째_거래가격', '이전_2번째_거래가격', '이전_3번째_거래가격', '이전_4번째_거래가격', '이전_5번째_거래가격', '이전_6번째_거래가격', '이전_7번째_거래가격', '이전_8번째_거래가격', '이전_9번째_거래가격', '이전_10번째_거래가격', '구_역세권_랭크']\n",
      "범주형 변수: ['본번', '부번', '아파트명', '계약일', '도로명', '거래유형', '중개사소재지', '구', '동', '계약월', '역세권']\n"
     ]
    }
   ],
   "source": [
    "# 파생변수 제작으로 추가된 변수들이 존재하기에, 다시한번 연속형과 범주형 칼럼을 분리해주겠습니다.\n",
    "continuous_columns_v2 = []\n",
    "categorical_columns_v2 = []\n",
    "\n",
    "for column in dt_train.columns:\n",
    "    if pd.api.types.is_numeric_dtype(dt_train[column]):\n",
    "        continuous_columns_v2.append(column)\n",
    "    else:\n",
    "        categorical_columns_v2.append(column)\n",
    "\n",
    "print(\"연속형 변수:\", continuous_columns_v2)\n",
    "print(\"범주형 변수:\", categorical_columns_v2)"
   ]
  },
  {
   "cell_type": "code",
   "execution_count": 203,
   "metadata": {},
   "outputs": [
    {
     "name": "stderr",
     "output_type": "stream",
     "text": [
      "100%|██████████| 11/11 [00:02<00:00,  4.24it/s]\n"
     ]
    }
   ],
   "source": [
    "# 아래에서 범주형 변수들을 대상으로 레이블인코딩을 진행해 주겠습니다.\n",
    "\n",
    "# 각 변수에 대한 LabelEncoder를 저장할 딕셔너리\n",
    "label_encoders = {}\n",
    "\n",
    "# Implement Label Encoding\n",
    "for col in tqdm( categorical_columns_v2 ):\n",
    "    lbl = LabelEncoder()\n",
    "\n",
    "    # Label-Encoding을 fit\n",
    "    lbl.fit( dt_train[col].astype(str) )\n",
    "    dt_train[col] = lbl.transform(dt_train[col].astype(str))\n",
    "    label_encoders[col] = lbl           # 나중에 후처리를 위해 레이블인코더를 저장해주겠습니다.\n",
    "\n",
    "    # Test 데이터에만 존재하는 새로 출현한 데이터를 신규 클래스로 추가해줍니다.\n",
    "    for label in np.unique(dt_test[col]):\n",
    "      if label not in lbl.classes_: # unseen label 데이터인 경우\n",
    "        lbl.classes_ = np.append(lbl.classes_, label) # 미처리 시 ValueError발생하니 주의하세요!\n",
    "\n",
    "    dt_test[col] = lbl.transform(dt_test[col].astype(str))"
   ]
  },
  {
   "cell_type": "code",
   "execution_count": 204,
   "metadata": {},
   "outputs": [],
   "source": [
    "assert dt_train.shape[1] == dt_test.shape[1]          # train/test dataset의 shape이 같은지 확인해주겠습니다."
   ]
  },
  {
   "cell_type": "code",
   "execution_count": 206,
   "metadata": {},
   "outputs": [],
   "source": [
    "# Target과 독립변수들을 분리해줍니다.\n",
    "y_train = dt_train['target']\n",
    "X_train = dt_train.drop(['target'], axis=1)"
   ]
  },
  {
   "cell_type": "code",
   "execution_count": 207,
   "metadata": {},
   "outputs": [
    {
     "data": {
      "application/vnd.jupyter.widget-view+json": {
       "model_id": "b2e91e51ac7546ac97cc4f555339da99",
       "version_major": 2,
       "version_minor": 0
      },
      "text/plain": [
       "MetricVisualizer(layout=Layout(align_self='stretch', height='500px'))"
      ]
     },
     "metadata": {},
     "output_type": "display_data"
    },
    {
     "name": "stdout",
     "output_type": "stream",
     "text": [
      "0:\tlearn: 36846.3454741\ttest: 37196.4468266\tbest: 37196.4468266 (0)\ttotal: 113ms\tremaining: 4m 42s\n",
      "100:\tlearn: 6643.3474380\ttest: 7301.1780529\tbest: 7301.1780529 (100)\ttotal: 6.47s\tremaining: 2m 33s\n",
      "200:\tlearn: 5488.7405199\ttest: 6461.2582836\tbest: 6461.2582836 (200)\ttotal: 12.8s\tremaining: 2m 26s\n",
      "300:\tlearn: 4916.8466866\ttest: 6128.9131549\tbest: 6128.9131549 (300)\ttotal: 19s\tremaining: 2m 18s\n",
      "400:\tlearn: 4540.9798476\ttest: 5968.7504392\tbest: 5968.7504392 (400)\ttotal: 24.8s\tremaining: 2m 10s\n",
      "500:\tlearn: 4276.1137494\ttest: 5867.4562542\tbest: 5867.4562542 (500)\ttotal: 30.7s\tremaining: 2m 2s\n",
      "600:\tlearn: 4064.4241810\ttest: 5799.6360894\tbest: 5799.6360894 (600)\ttotal: 36.6s\tremaining: 1m 55s\n",
      "700:\tlearn: 3894.7855580\ttest: 5750.7147384\tbest: 5750.7147384 (700)\ttotal: 42.4s\tremaining: 1m 48s\n",
      "800:\tlearn: 3745.2413172\ttest: 5722.5918732\tbest: 5722.5918732 (800)\ttotal: 48.3s\tremaining: 1m 42s\n",
      "900:\tlearn: 3627.0840276\ttest: 5700.3914471\tbest: 5699.1546755 (893)\ttotal: 54.4s\tremaining: 1m 36s\n",
      "1000:\tlearn: 3522.1109928\ttest: 5686.6363148\tbest: 5686.3607417 (988)\ttotal: 1m\tremaining: 1m 30s\n",
      "1100:\tlearn: 3427.2368738\ttest: 5667.8615282\tbest: 5667.7008081 (1098)\ttotal: 1m 6s\tremaining: 1m 24s\n",
      "Stopped by overfitting detector  (50 iterations wait)\n",
      "\n",
      "bestTest = 5667.700808\n",
      "bestIteration = 1098\n",
      "\n",
      "Shrink model to first 1099 iterations.\n"
     ]
    },
    {
     "data": {
      "application/vnd.jupyter.widget-view+json": {
       "model_id": "82776ec0a7164e8abd5e73a1dfe37460",
       "version_major": 2,
       "version_minor": 0
      },
      "text/plain": [
       "MetricVisualizer(layout=Layout(align_self='stretch', height='500px'))"
      ]
     },
     "metadata": {},
     "output_type": "display_data"
    },
    {
     "name": "stdout",
     "output_type": "stream",
     "text": [
      "0:\tlearn: 36991.6792304\ttest: 36708.9299846\tbest: 36708.9299846 (0)\ttotal: 63.4ms\tremaining: 2m 38s\n",
      "100:\tlearn: 6757.9009083\ttest: 7208.5829464\tbest: 7208.5829464 (100)\ttotal: 5.96s\tremaining: 2m 21s\n",
      "200:\tlearn: 5531.1911405\ttest: 6379.6084530\tbest: 6379.6084530 (200)\ttotal: 11.8s\tremaining: 2m 14s\n",
      "300:\tlearn: 4963.3715565\ttest: 6066.7274272\tbest: 6066.7274272 (300)\ttotal: 17.7s\tremaining: 2m 9s\n",
      "400:\tlearn: 4586.2655890\ttest: 5894.6487553\tbest: 5894.6487553 (400)\ttotal: 23.6s\tremaining: 2m 3s\n",
      "500:\tlearn: 4307.6221648\ttest: 5803.2105808\tbest: 5801.2657868 (494)\ttotal: 29.5s\tremaining: 1m 57s\n",
      "600:\tlearn: 4091.7404927\ttest: 5750.1807923\tbest: 5749.3324097 (593)\ttotal: 35.4s\tremaining: 1m 51s\n",
      "700:\tlearn: 3923.9748188\ttest: 5715.1800915\tbest: 5713.1049549 (699)\ttotal: 41.2s\tremaining: 1m 45s\n",
      "800:\tlearn: 3778.5765915\ttest: 5675.3043015\tbest: 5675.3043015 (800)\ttotal: 47.1s\tremaining: 1m 39s\n",
      "900:\tlearn: 3656.7628944\ttest: 5647.6471909\tbest: 5647.6471909 (900)\ttotal: 53s\tremaining: 1m 34s\n",
      "1000:\tlearn: 3549.4609619\ttest: 5630.2637637\tbest: 5630.0583530 (992)\ttotal: 59s\tremaining: 1m 28s\n",
      "1100:\tlearn: 3458.1308001\ttest: 5615.9456076\tbest: 5615.9456076 (1100)\ttotal: 1m 4s\tremaining: 1m 22s\n",
      "1200:\tlearn: 3363.2392934\ttest: 5607.5627622\tbest: 5606.9912662 (1189)\ttotal: 1m 10s\tremaining: 1m 16s\n",
      "1300:\tlearn: 3278.1094464\ttest: 5597.4137243\tbest: 5597.4137243 (1300)\ttotal: 1m 16s\tremaining: 1m 10s\n",
      "1400:\tlearn: 3203.3731575\ttest: 5593.9653311\tbest: 5593.7906781 (1397)\ttotal: 1m 22s\tremaining: 1m 4s\n",
      "1500:\tlearn: 3134.8898142\ttest: 5590.8379631\tbest: 5588.8735735 (1491)\ttotal: 1m 28s\tremaining: 58.9s\n",
      "1600:\tlearn: 3077.3361822\ttest: 5582.2970643\tbest: 5582.2970643 (1600)\ttotal: 1m 34s\tremaining: 53.1s\n",
      "1700:\tlearn: 3014.8544881\ttest: 5577.0157877\tbest: 5576.8476995 (1684)\ttotal: 1m 40s\tremaining: 47.2s\n",
      "1800:\tlearn: 2956.5422410\ttest: 5574.9488977\tbest: 5574.8756881 (1799)\ttotal: 1m 46s\tremaining: 41.3s\n",
      "1900:\tlearn: 2904.6868187\ttest: 5568.1323215\tbest: 5567.9301216 (1896)\ttotal: 1m 52s\tremaining: 35.5s\n",
      "Stopped by overfitting detector  (50 iterations wait)\n",
      "\n",
      "bestTest = 5567.930122\n",
      "bestIteration = 1896\n",
      "\n",
      "Shrink model to first 1897 iterations.\n"
     ]
    },
    {
     "data": {
      "application/vnd.jupyter.widget-view+json": {
       "model_id": "8a3140b5c5dc4f8e856509b46e047b63",
       "version_major": 2,
       "version_minor": 0
      },
      "text/plain": [
       "MetricVisualizer(layout=Layout(align_self='stretch', height='500px'))"
      ]
     },
     "metadata": {},
     "output_type": "display_data"
    },
    {
     "name": "stdout",
     "output_type": "stream",
     "text": [
      "0:\tlearn: 37054.1888874\ttest: 36944.6235506\tbest: 36944.6235506 (0)\ttotal: 60.7ms\tremaining: 2m 31s\n",
      "100:\tlearn: 6677.6846481\ttest: 7072.3645667\tbest: 7072.3645667 (100)\ttotal: 5.95s\tremaining: 2m 21s\n",
      "200:\tlearn: 5494.0030107\ttest: 6187.0518787\tbest: 6187.0518787 (200)\ttotal: 11.7s\tremaining: 2m 14s\n",
      "300:\tlearn: 4911.0398131\ttest: 5849.0422084\tbest: 5848.4041530 (299)\ttotal: 17.6s\tremaining: 2m 8s\n",
      "400:\tlearn: 4534.0971154\ttest: 5653.0134908\tbest: 5653.0134908 (400)\ttotal: 23.5s\tremaining: 2m 2s\n",
      "500:\tlearn: 4266.8253925\ttest: 5548.1798556\tbest: 5548.1798556 (500)\ttotal: 29.4s\tremaining: 1m 57s\n",
      "600:\tlearn: 4057.5007203\ttest: 5475.5160024\tbest: 5475.5160024 (600)\ttotal: 35.3s\tremaining: 1m 51s\n",
      "700:\tlearn: 3889.6945721\ttest: 5421.2401088\tbest: 5421.2401088 (700)\ttotal: 41.2s\tremaining: 1m 45s\n",
      "800:\tlearn: 3750.3766067\ttest: 5394.5034252\tbest: 5393.8796575 (799)\ttotal: 47.1s\tremaining: 1m 39s\n",
      "900:\tlearn: 3629.7493301\ttest: 5362.8508615\tbest: 5362.8508615 (900)\ttotal: 52.9s\tremaining: 1m 33s\n",
      "1000:\tlearn: 3517.2511004\ttest: 5341.5281457\tbest: 5341.5281457 (1000)\ttotal: 58.8s\tremaining: 1m 28s\n",
      "1100:\tlearn: 3418.5226505\ttest: 5323.7610326\tbest: 5323.7610326 (1100)\ttotal: 1m 4s\tremaining: 1m 22s\n",
      "1200:\tlearn: 3328.1505501\ttest: 5311.9871916\tbest: 5311.9871916 (1200)\ttotal: 1m 10s\tremaining: 1m 16s\n",
      "1300:\tlearn: 3246.0318242\ttest: 5299.5500447\tbest: 5299.4678358 (1299)\ttotal: 1m 16s\tremaining: 1m 10s\n",
      "1400:\tlearn: 3172.3516915\ttest: 5291.2959196\tbest: 5291.1919900 (1399)\ttotal: 1m 22s\tremaining: 1m 4s\n",
      "1500:\tlearn: 3101.9566598\ttest: 5281.6956785\tbest: 5281.4677201 (1498)\ttotal: 1m 28s\tremaining: 58.9s\n",
      "1600:\tlearn: 3040.4043387\ttest: 5274.8431025\tbest: 5274.8431025 (1600)\ttotal: 1m 34s\tremaining: 53.1s\n",
      "1700:\tlearn: 2981.5077856\ttest: 5271.1375091\tbest: 5270.9593527 (1680)\ttotal: 1m 40s\tremaining: 47.2s\n",
      "1800:\tlearn: 2929.5941293\ttest: 5265.5459390\tbest: 5264.8058878 (1794)\ttotal: 1m 46s\tremaining: 41.3s\n",
      "1900:\tlearn: 2878.1576346\ttest: 5260.9161566\tbest: 5260.8158581 (1894)\ttotal: 1m 52s\tremaining: 35.4s\n",
      "Stopped by overfitting detector  (50 iterations wait)\n",
      "\n",
      "bestTest = 5260.541715\n",
      "bestIteration = 1916\n",
      "\n",
      "Shrink model to first 1917 iterations.\n"
     ]
    },
    {
     "data": {
      "application/vnd.jupyter.widget-view+json": {
       "model_id": "d72a1e01f4a8465faf3e35e17ee87974",
       "version_major": 2,
       "version_minor": 0
      },
      "text/plain": [
       "MetricVisualizer(layout=Layout(align_self='stretch', height='500px'))"
      ]
     },
     "metadata": {},
     "output_type": "display_data"
    },
    {
     "name": "stdout",
     "output_type": "stream",
     "text": [
      "0:\tlearn: 36869.9958896\ttest: 37098.5219662\tbest: 37098.5219662 (0)\ttotal: 62.3ms\tremaining: 2m 35s\n",
      "100:\tlearn: 6651.4758757\ttest: 7219.5358625\tbest: 7219.5358625 (100)\ttotal: 5.94s\tremaining: 2m 21s\n",
      "200:\tlearn: 5495.5766292\ttest: 6383.7810834\tbest: 6383.7810834 (200)\ttotal: 11.8s\tremaining: 2m 15s\n",
      "300:\tlearn: 4912.7864197\ttest: 6043.2062409\tbest: 6043.2062409 (300)\ttotal: 17.8s\tremaining: 2m 9s\n",
      "400:\tlearn: 4544.2650317\ttest: 5895.3674168\tbest: 5894.9015523 (399)\ttotal: 23.7s\tremaining: 2m 3s\n",
      "500:\tlearn: 4269.6832024\ttest: 5780.6695932\tbest: 5780.6695932 (500)\ttotal: 29.6s\tremaining: 1m 58s\n",
      "600:\tlearn: 4052.5937491\ttest: 5724.8876195\tbest: 5724.8876195 (600)\ttotal: 35.5s\tremaining: 1m 52s\n",
      "700:\tlearn: 3880.7646537\ttest: 5666.4926781\tbest: 5666.4926781 (700)\ttotal: 41.6s\tremaining: 1m 46s\n",
      "800:\tlearn: 3739.8790493\ttest: 5638.3000810\tbest: 5638.3000810 (800)\ttotal: 47.6s\tremaining: 1m 40s\n",
      "900:\tlearn: 3620.4232902\ttest: 5614.4826937\tbest: 5614.4826937 (900)\ttotal: 53.5s\tremaining: 1m 34s\n",
      "1000:\tlearn: 3512.8820860\ttest: 5598.0592406\tbest: 5598.0592406 (1000)\ttotal: 59.5s\tremaining: 1m 29s\n",
      "1100:\tlearn: 3417.1734477\ttest: 5580.8030389\tbest: 5580.7389752 (1099)\ttotal: 1m 5s\tremaining: 1m 23s\n",
      "1200:\tlearn: 3329.6793380\ttest: 5569.1764534\tbest: 5569.1764534 (1200)\ttotal: 1m 11s\tremaining: 1m 17s\n",
      "1300:\tlearn: 3244.8938126\ttest: 5560.7736785\tbest: 5559.8250631 (1293)\ttotal: 1m 17s\tremaining: 1m 11s\n",
      "1400:\tlearn: 3169.1614026\ttest: 5550.3609038\tbest: 5550.3609038 (1400)\ttotal: 1m 23s\tremaining: 1m 5s\n",
      "1500:\tlearn: 3099.6369790\ttest: 5546.0749590\tbest: 5546.0749590 (1500)\ttotal: 1m 29s\tremaining: 59.4s\n",
      "1600:\tlearn: 3040.4903760\ttest: 5543.4097747\tbest: 5542.7835037 (1559)\ttotal: 1m 35s\tremaining: 53.5s\n",
      "1700:\tlearn: 2985.4495433\ttest: 5537.0968353\tbest: 5537.0968353 (1700)\ttotal: 1m 41s\tremaining: 47.5s\n",
      "1800:\tlearn: 2932.7303715\ttest: 5536.1519146\tbest: 5535.3968344 (1763)\ttotal: 1m 47s\tremaining: 41.6s\n",
      "1900:\tlearn: 2878.6983728\ttest: 5529.1280374\tbest: 5529.0581760 (1897)\ttotal: 1m 53s\tremaining: 35.6s\n",
      "2000:\tlearn: 2825.8872577\ttest: 5527.4171351\tbest: 5527.1376151 (1992)\ttotal: 1m 59s\tremaining: 29.7s\n",
      "2100:\tlearn: 2777.9526044\ttest: 5524.7206816\tbest: 5524.2473391 (2097)\ttotal: 2m 5s\tremaining: 23.8s\n",
      "2200:\tlearn: 2731.6798807\ttest: 5522.8239909\tbest: 5522.8239909 (2200)\ttotal: 2m 11s\tremaining: 17.8s\n",
      "2300:\tlearn: 2691.9071011\ttest: 5522.3727231\tbest: 5520.5858464 (2261)\ttotal: 2m 17s\tremaining: 11.9s\n",
      "Stopped by overfitting detector  (50 iterations wait)\n",
      "\n",
      "bestTest = 5520.585846\n",
      "bestIteration = 2261\n",
      "\n",
      "Shrink model to first 2262 iterations.\n"
     ]
    },
    {
     "data": {
      "application/vnd.jupyter.widget-view+json": {
       "model_id": "b90dd77b7e4144919c8bc192ef516564",
       "version_major": 2,
       "version_minor": 0
      },
      "text/plain": [
       "MetricVisualizer(layout=Layout(align_self='stretch', height='500px'))"
      ]
     },
     "metadata": {},
     "output_type": "display_data"
    },
    {
     "name": "stdout",
     "output_type": "stream",
     "text": [
      "0:\tlearn: 37143.4389527\ttest: 36957.2890797\tbest: 36957.2890797 (0)\ttotal: 59.3ms\tremaining: 2m 28s\n",
      "100:\tlearn: 6840.5768629\ttest: 7205.3049306\tbest: 7205.3049306 (100)\ttotal: 5.97s\tremaining: 2m 21s\n",
      "200:\tlearn: 5602.2677453\ttest: 6319.6625205\tbest: 6319.6625205 (200)\ttotal: 11.9s\tremaining: 2m 15s\n",
      "300:\tlearn: 4985.8952364\ttest: 5995.3867350\tbest: 5995.3867350 (300)\ttotal: 17.7s\tremaining: 2m 9s\n",
      "400:\tlearn: 4608.3116784\ttest: 5828.7285676\tbest: 5828.7285676 (400)\ttotal: 23.6s\tremaining: 2m 3s\n",
      "500:\tlearn: 4325.7029615\ttest: 5726.8658201\tbest: 5726.8658201 (500)\ttotal: 29.6s\tremaining: 1m 57s\n",
      "600:\tlearn: 4104.0210979\ttest: 5670.7548917\tbest: 5670.7548917 (600)\ttotal: 35.5s\tremaining: 1m 52s\n",
      "700:\tlearn: 3932.9189172\ttest: 5632.7234864\tbest: 5632.1493428 (698)\ttotal: 41.5s\tremaining: 1m 46s\n",
      "800:\tlearn: 3794.5346485\ttest: 5607.8209479\tbest: 5607.8209479 (800)\ttotal: 47.4s\tremaining: 1m 40s\n",
      "900:\tlearn: 3662.3720824\ttest: 5592.7833703\tbest: 5592.7833703 (900)\ttotal: 53.3s\tremaining: 1m 34s\n",
      "1000:\tlearn: 3549.3315981\ttest: 5577.5758879\tbest: 5577.5758879 (1000)\ttotal: 59.1s\tremaining: 1m 28s\n",
      "1100:\tlearn: 3449.1499196\ttest: 5556.0692508\tbest: 5556.0692508 (1100)\ttotal: 1m 5s\tremaining: 1m 22s\n",
      "Stopped by overfitting detector  (50 iterations wait)\n",
      "\n",
      "bestTest = 5549.651378\n",
      "bestIteration = 1129\n",
      "\n",
      "Shrink model to first 1130 iterations.\n",
      "K-fold 교차 검증 5번 min RMSE:\n",
      "- 학습 데이터 min RMSE: 2708.3023\n",
      "- 검증 데이터 min RMSE: 5260.5417\n"
     ]
    }
   ],
   "source": [
    "# K-fold 교차 검증을 위한 K 값 설정\n",
    "k = 5  # 예시로 K=5로 설정\n",
    "# KFold 객체 생성\n",
    "kf = KFold(n_splits=k, shuffle=True, random_state=2023)\n",
    "# 모델 성능을 저장할 리스트\n",
    "train_rmse_scores = []\n",
    "val_rmse_scores = []\n",
    "models = []  # 각 fold에서 선택된 모델을 저장할 리스트\n",
    "params = {\n",
    "    'iterations': 2500,\n",
    "    'learning_rate': 0.2619829692634429,\n",
    "    'depth': 10,\n",
    "    'l2_leaf_reg': 0.06339510160096859,\n",
    "    'bootstrap_type': 'MVS',\n",
    "    'subsample': 0.6742258586023032,\n",
    "    'random_strength': 6.088205676048116,\n",
    "    'min_data_in_leaf': 16,\n",
    "    'loss_function': 'RMSE',\n",
    "    'eval_metric': 'RMSE'\n",
    "}\n",
    "# K-fold 반복\n",
    "for train_index, val_index in kf.split(X_train):\n",
    "    # K-fold 내의 학습 데이터와 검증 데이터\n",
    "    X_train_kf, X_val_kf = X_train.iloc[train_index], X_train.iloc[val_index]\n",
    "    y_train_kf, y_val_kf = y_train.iloc[train_index], y_train.iloc[val_index]\n",
    "    # CatBoostRegressor를 이용해 회귀 모델을 학습\n",
    "    model = CatBoostRegressor(**params)\n",
    "    model.fit(X_train_kf, y_train_kf, eval_set=(X_val_kf, y_val_kf), early_stopping_rounds=50, verbose=100, plot=True)\n",
    "    # 검증 데이터에서 예측값 계산\n",
    "    val_pred = model.predict(X_val_kf)\n",
    "    # 회귀 모델의 성능 지표인 RMSE(Root Mean Squared Error) 계산\n",
    "    val_rmse = np.sqrt(mean_squared_error(y_val_kf, val_pred))\n",
    "    train_rmse = np.sqrt(mean_squared_error(y_train_kf, model.predict(X_train_kf)))\n",
    "    # 학습 결과 추출\n",
    "    evals_result = model.get_evals_result()\n",
    "    # 학습 및 검증 데이터의 RMSE 값 추출\n",
    "    train_rmse_curve = evals_result['learn']['RMSE']\n",
    "    val_rmse_curve = evals_result['validation']['RMSE']\n",
    "    # # 학습 곡선 시각화\n",
    "    # plt.figure(figsize=(10, 6))\n",
    "    # plt.plot(train_rmse_curve, label='Train RMSE')\n",
    "    # plt.plot(val_rmse_curve, label='Validation RMSE')\n",
    "    # plt.xlim(100, 2500)\n",
    "    # plt.ylim(3000, 7000)\n",
    "    # plt.xlabel('Iteration')\n",
    "    # plt.ylabel('RMSE')\n",
    "    # plt.legend()\n",
    "    # plt.title('Learning and Validation Curves')\n",
    "    # plt.show()\n",
    "    # 각 fold에서의 성능 점수 저장\n",
    "    train_rmse_scores.append(train_rmse)\n",
    "    val_rmse_scores.append(val_rmse)\n",
    "    models.append(model)  # 해당 모델을 리스트에 저장\n",
    "# 가장 성능이 좋은(즉, val_rmse가 최소인) 모델 선택\n",
    "best_model_index = np.argmin(val_rmse_scores)\n",
    "best_model = models[best_model_index]\n",
    "# K-fold 교차 검증 결과 출력\n",
    "print(f'K-fold 교차 검증 {k}번 min RMSE:')\n",
    "print(f'- 학습 데이터 min RMSE: {np.min(train_rmse_scores):.4f}')\n",
    "print(f'- 검증 데이터 min RMSE: {np.min(val_rmse_scores):.4f}')"
   ]
  },
  {
   "cell_type": "code",
   "execution_count": 208,
   "metadata": {},
   "outputs": [
    {
     "name": "stdout",
     "output_type": "stream",
     "text": [
      "CPU times: user 58.3 ms, sys: 159 µs, total: 58.4 ms\n",
      "Wall time: 9.37 ms\n"
     ]
    }
   ],
   "source": [
    "%%time\n",
    "X_test = dt_test.drop(['target'], axis=1)\n",
    "\n",
    "# Test dataset에 대한 inference를 진행합니다.\n",
    "real_test_pred = model.predict(X_test)"
   ]
  },
  {
   "cell_type": "code",
   "execution_count": 209,
   "metadata": {},
   "outputs": [],
   "source": [
    "# 앞서 예측한 예측값들을 저장합니다.\n",
    "preds_df = pd.DataFrame(real_test_pred.astype(int), columns=[\"target\"])\n",
    "preds_df.to_csv('final_output_result.csv', index=False)"
   ]
  }
 ],
 "metadata": {
  "kernelspec": {
   "display_name": "base",
   "language": "python",
   "name": "python3"
  },
  "language_info": {
   "codemirror_mode": {
    "name": "ipython",
    "version": 3
   },
   "file_extension": ".py",
   "mimetype": "text/x-python",
   "name": "python",
   "nbconvert_exporter": "python",
   "pygments_lexer": "ipython3",
   "version": "3.10.13"
  }
 },
 "nbformat": 4,
 "nbformat_minor": 2
}
